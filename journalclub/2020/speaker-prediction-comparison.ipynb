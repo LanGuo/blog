{
 "cells": [
  {
   "cell_type": "markdown",
   "metadata": {},
   "source": [
    "# Comparing TF-IDF and BERT Vectorisation for Speaker Prediction\n",
    "This blog post compares 2 methods for generating vectorisations of text by training a classification model to predict who said a sentence from a given transcript."
   ]
  },
  {
   "cell_type": "markdown",
   "metadata": {},
   "source": [
    "## Data\n",
    "For this project I use the output of [Amazon's Transcribe module](https://aws.amazon.com/transcribe/) after we sent it recordings of the Journal Club podcast. The corpus is made up of 7 different transcriptions, these are split into **'documents'** or sentences each spoken by Kyle, Lan or myself.\n",
    "\n",
    "##### Vocabulary\n",
    "_Corpus_ : the combined documents from the transcripts  \n",
    "_Document_ : a sentence uttered by one speaker, composed of terms  \n",
    "_Term_ : an individual word or token"
   ]
  },
  {
   "cell_type": "code",
   "execution_count": 1,
   "metadata": {},
   "outputs": [
    {
     "data": {
      "text/html": [
       "<div>\n",
       "<style scoped>\n",
       "    .dataframe tbody tr th:only-of-type {\n",
       "        vertical-align: middle;\n",
       "    }\n",
       "\n",
       "    .dataframe tbody tr th {\n",
       "        vertical-align: top;\n",
       "    }\n",
       "\n",
       "    .dataframe thead th {\n",
       "        text-align: right;\n",
       "    }\n",
       "</style>\n",
       "<table border=\"1\" class=\"dataframe\">\n",
       "  <thead>\n",
       "    <tr style=\"text-align: right;\">\n",
       "      <th></th>\n",
       "      <th>0</th>\n",
       "      <th>1</th>\n",
       "    </tr>\n",
       "  </thead>\n",
       "  <tbody>\n",
       "    <tr>\n",
       "      <th>0</th>\n",
       "      <td>E Everyone welcome to another episode of data ...</td>\n",
       "      <td>Kyle</td>\n",
       "    </tr>\n",
       "    <tr>\n",
       "      <th>1</th>\n",
       "      <td>Hello My name is Lan I'm a data scientist In a...</td>\n",
       "      <td>Lan</td>\n",
       "    </tr>\n",
       "    <tr>\n",
       "      <th>2</th>\n",
       "      <td>I'm George Kemp I'm a data science student fro...</td>\n",
       "      <td>George</td>\n",
       "    </tr>\n",
       "    <tr>\n",
       "      <th>3</th>\n",
       "      <td>outstanding While I can kick a soft and talk a...</td>\n",
       "      <td>Kyle</td>\n",
       "    </tr>\n",
       "    <tr>\n",
       "      <th>4</th>\n",
       "      <td>So this protein folding problem as I remember ...</td>\n",
       "      <td>Lan</td>\n",
       "    </tr>\n",
       "  </tbody>\n",
       "</table>\n",
       "</div>"
      ],
      "text/plain": [
       "                                                   0       1\n",
       "0  E Everyone welcome to another episode of data ...    Kyle\n",
       "1  Hello My name is Lan I'm a data scientist In a...     Lan\n",
       "2  I'm George Kemp I'm a data science student fro...  George\n",
       "3  outstanding While I can kick a soft and talk a...    Kyle\n",
       "4  So this protein folding problem as I remember ...     Lan"
      ]
     },
     "execution_count": 1,
     "metadata": {},
     "output_type": "execute_result"
    }
   ],
   "source": [
    "import pandas as pd\n",
    "\n",
    "urls = [\"csvs/adversarial-examples-protein-folding-and-shaley-values.csv\",\n",
    "        \"csvs/dark-secrets-of-bert-radioactive-data-and-vanishing-gradients.csv\",\n",
    "        \"csvs/ep1_raw.csv\",\n",
    "        \"csvs/intro-narration-raw.csv\",\n",
    "        \"csvs/JC-EP-12.csv\",\n",
    "        \"csvs/JC-Ep2-DS-Page.csv\"]\n",
    "\n",
    "data = pd.read_csv(urls[0])\n",
    "\n",
    "for url in urls[1:]:\n",
    "    data_m = pd.read_csv(url)\n",
    "    data = pd.concat([data, data_m])\n",
    "    \n",
    "data.head()"
   ]
  },
  {
   "cell_type": "markdown",
   "metadata": {},
   "source": [
    "## Training the TF-IDF Vectoriser Model\n",
    "##### What is TF-IDF? \n",
    "TF-IDF stands for term frequency-inverse document frequency. It allows us to give each term in a document a score that reflects its importance, taking into account how frequently it appears in the entire corpus. It is widely used in text-based recommender systems. A high TF-IDF score means that a term is either very frequent in our document, or very infrequent in the corpus.  \n",
    "\n",
    "We're using the [gensim library](https://radimrehurek.com/gensim/) to generate our model here."
   ]
  },
  {
   "cell_type": "code",
   "execution_count": 2,
   "metadata": {},
   "outputs": [
    {
     "name": "stdout",
     "output_type": "stream",
     "text": [
      "['everyone', 'welcome', 'to', 'another', 'episode', 'of', 'data', 'skeptic', 'journal', 'club', 'your', 'host', 'kyle', 'um', 'data', 'scientist', 'and', 'today', 'll', 'be', 'presenting', 'on', 'news', 'item', 'from', 'deepmind', 'related', 'to', 'protein', 'folding']\n",
      "1218\n"
     ]
    }
   ],
   "source": [
    "from gensim import corpora, models, similarities\n",
    "from gensim.utils import simple_preprocess\n",
    "import numpy as np\n",
    "from collections import defaultdict\n",
    "\n",
    "corpus = data.loc[:,'0']\n",
    "\n",
    "#process each sentence into tokens\n",
    "texts = [[word for word in simple_preprocess(document)]\n",
    "     for document in corpus]\n",
    "\n",
    "print(texts[0])\n",
    "\n",
    "frequency = defaultdict(int)\n",
    "for text in texts:\n",
    "    for token in text:\n",
    "        frequency[token] += 1\n",
    "\n",
    "# Only keep words that appear more than once\n",
    "processed_corpus = [[token for token in text if frequency[token] > 1] for text in texts]\n",
    "\n",
    "print(len(processed_corpus))"
   ]
  },
  {
   "cell_type": "code",
   "execution_count": 3,
   "metadata": {},
   "outputs": [
    {
     "name": "stdout",
     "output_type": "stream",
     "text": [
      "Example String: \n",
      "     'Hi, my name is George'\n",
      "\n",
      "Preprocess to tokens: \n",
      "     ['hi', 'my', 'name', 'is', 'george']\n",
      "\n",
      "Turn into Bag-of-Words representation: \n",
      "     [(36, 1), (38, 1), (39, 1), (52, 1), (1081, 1)]\n",
      "\n",
      "Model output! Sparse tf-idf representation: \n",
      "     [(36, 0.15462545935648392), (38, 0.29404255854678313), (39, 0.5488827969637479), (52, 0.4192022239487392), (1081, 0.6423605776475874)]\n"
     ]
    }
   ],
   "source": [
    "# Generate integer representations of each word\n",
    "dictionary = corpora.Dictionary(processed_corpus)\n",
    "# Generate Bag-Of-Words representation of each document\n",
    "bow_corpus = [dictionary.doc2bow(text) for text in processed_corpus]\n",
    "\n",
    "# Train our tfidf model on the corpus\n",
    "tfidf = models.TfidfModel(bow_corpus)\n",
    "\n",
    "# Example sentence\n",
    "test_sentence = \"Hi, my name is George\"\n",
    "print(\"Example String: \\n     '{}'\\n\".format(test_sentence))\n",
    "query_document = simple_preprocess(test_sentence)\n",
    "print(\"Preprocess to tokens: \\n     {}\\n\".format(query_document))\n",
    "query_bow = dictionary.doc2bow(query_document)\n",
    "print(\"Turn into Bag-of-Words representation: \\n     {}\\n\".format(query_bow))\n",
    "vectorized = tfidf[query_bow]\n",
    "print(\"Model output! Sparse tf-idf representation: \\n     {}\".format(vectorized))"
   ]
  },
  {
   "cell_type": "code",
   "execution_count": 4,
   "metadata": {},
   "outputs": [
    {
     "name": "stdout",
     "output_type": "stream",
     "text": [
      "==TESTING DOCUMENT SIMILARITY==\n",
      "Test sequence: 'Hi, my name is George'\n",
      "\n",
      "RANK | Speaker: sentence\n",
      "\n",
      "0 | George: 'Hi I'm George'\n",
      "  score = 0.767\n",
      "\n",
      "1 | George: 'Hi My name's George I'm a computer science student from London I studied a science at City University London Well'\n",
      "  score = 0.389\n",
      "\n",
      "2 | George: 'Hi I'm still in London'\n",
      "  score = 0.387\n",
      "\n",
      "3 | George: 'or sort of said Hi I cheated guys and revealed it at the end'\n",
      "  score = 0.290\n",
      "\n",
      "4 | George: 'Hi I'm George I'm gonna be talking about a new blood test that uses data science and can detect up to 50 different types of cancer'\n",
      "  score = 0.285\n",
      "\n",
      "5 | Lan: 'Hello My name is Lan I'm a data scientist In about text up in Oregon today I will present a paper name ever Cerro examples are not bucks They are features'\n",
      "  score = 0.280\n",
      "\n",
      "6 | Lan: 'we'll have to see how this would work on fire name'\n",
      "  score = 0.241\n",
      "\n",
      "7 | George: 'Hi I'm George I'm a computer science student studying a city University of London I've transition to studying focusing on data science in my final year'\n",
      "  score = 0.238\n",
      "\n",
      "8 | Kyle: 'is always George Welcome to the seventh'\n",
      "  score = 0.230\n",
      "\n",
      "9 | Lan: 'Hello My name is Lan I'm a neurophysiologist turned data scientists I'm very excited to be on the show and took a cow out with all of you'\n",
      "  score = 0.215\n",
      "\n"
     ]
    }
   ],
   "source": [
    "index = similarities.SparseMatrixSimilarity(tfidf[bow_corpus], num_features=len(dictionary.dfs))\n",
    "sims = index[vectorized]\n",
    "\n",
    "print(\"==TESTING DOCUMENT SIMILARITY==\")\n",
    "print(\"Test sequence: '{}'\\n\".format(test_sentence))\n",
    "count = 0\n",
    "print(\"RANK | Speaker: sentence\\n\")\n",
    "for document_number, score in sorted(enumerate(sims), key=lambda x: x[1], reverse=True):\n",
    "    print(\"{} | {}: '{}'\".format(count, data.loc[:,'1'].iloc[document_number], corpus.iloc[document_number]))\n",
    "    print(\"  score = {:.3f}\\n\".format(score))\n",
    "    count += 1\n",
    "    if count == 10: break"
   ]
  },
  {
   "cell_type": "markdown",
   "metadata": {},
   "source": [
    "## Building a NN Model that takes TF-IDF Vectors as input"
   ]
  },
  {
   "cell_type": "code",
   "execution_count": 5,
   "metadata": {},
   "outputs": [],
   "source": [
    "from tensorflow.keras.models import Sequential \n",
    "from tensorflow.keras.layers import Dense, Input\n",
    "from tensorflow.keras.utils import Sequence, to_categorical\n",
    "from sklearn.model_selection import train_test_split\n",
    "from sklearn.metrics import confusion_matrix, accuracy_score\n",
    "\n",
    "import numpy as np\n",
    "import pandas as pd\n",
    "import seaborn as sn\n",
    "import matplotlib.pyplot as plt"
   ]
  },
  {
   "cell_type": "code",
   "execution_count": 6,
   "metadata": {},
   "outputs": [],
   "source": [
    "tfidf_model = Sequential(\n",
    "    [\n",
    "        Input(shape=(2084,)),\n",
    "        Dense(200, activation=\"relu\", name=\"layer1\"),\n",
    "        Dense(3, name=\"output\", activation=\"softmax\"),\n",
    "    ]\n",
    ")\n",
    "tfidf_model.compile(loss='categorical_crossentropy', optimizer='adam', metrics=['accuracy'])\n",
    "\n",
    "class tfidf_generator(Sequence):\n",
    "    def __init__(self, vectorizer, dictionary, documents, labels, shape=2084):\n",
    "        self.vectorizer = vectorizer\n",
    "        self.documents = np.asarray(documents)\n",
    "        self.labels = np.asarray(labels)\n",
    "        self.name_dict = {\"Kyle\" : 0, \"Lan\" : 1, \"George\" : 2}\n",
    "        self.shape = shape\n",
    "        self.dictionary = dictionary\n",
    "        self.on_epoch_end()\n",
    "        \n",
    "    def __len__(self):\n",
    "        return int(np.floor(len(self.documents)))\n",
    "\n",
    "    def __getitem__(self, index):\n",
    "        'Generate one batch of data'\n",
    "        # Generate indexes of the batch\n",
    "        i = self.indexes[index]\n",
    "\n",
    "        # Find list of documents, labels\n",
    "        doc = self.documents[i]\n",
    "        label = self.labels[i]\n",
    "        \n",
    "        # Generate data\n",
    "        X = np.zeros((1, self.shape))\n",
    "        y = np.zeros((1), dtype=int)\n",
    "\n",
    "        query_doc = simple_preprocess(doc)\n",
    "        query_bow = self.dictionary.doc2bow(query_doc)\n",
    "        sparse_rep = self.vectorizer[query_bow]\n",
    "\n",
    "        for j, s in sparse_rep:\n",
    "            X[0,j] = s\n",
    "\n",
    "        y[0] = self.name_dict[label]\n",
    "\n",
    "        return X, to_categorical(y, num_classes=3)\n",
    "    \n",
    "    def get_y_true(self):\n",
    "        y = [self.name_dict[self.labels[i]] for i in self.indexes]\n",
    "        return y #to_categorical(y, num_classes=3)\n",
    "    \n",
    "    def on_epoch_end(self):\n",
    "        'Updates indexes after each epoch'\n",
    "        self.indexes = np.arange(len(self.documents))\n",
    "        np.random.shuffle(self.indexes)\n",
    "\n",
    "def cm(y_true, y_pred, names=None):\n",
    "    '''\n",
    "    Prints a confusion matrix heatmap from input y_true, y_pred arrays\n",
    "    y axis: true\n",
    "    x axis: prediction\n",
    "    '''\n",
    "    if names==None: names = [\"Kyle\", \"Lan\", \"George\"]\n",
    "    print(\"Test accuracy: {:.2f}\".format(accuracy_score(y_true, y_pred)))\n",
    "    cm = confusion_matrix(y_true, y_pred, normalize='true')\n",
    "    sn.heatmap(cm, square=True, xticklabels=names, yticklabels=names, annot=True)\n",
    "    plt.ylabel(\"True\")\n",
    "    plt.xlabel(\"Predicted\")\n",
    "    plt.show()"
   ]
  },
  {
   "cell_type": "code",
   "execution_count": 7,
   "metadata": {},
   "outputs": [
    {
     "name": "stdout",
     "output_type": "stream",
     "text": [
      "WARNING:tensorflow:sample_weight modes were coerced from\n",
      "  ...\n",
      "    to  \n",
      "  ['...']\n",
      "Train for 974 steps\n",
      "974/974 [==============================] - 5s 5ms/step - loss: 0.9205 - accuracy: 0.5698\n",
      "Test accuracy: 0.64\n"
     ]
    },
    {
     "data": {
      "image/png": "[encoded data removed]",
      "text/plain": [
       "<Figure size 432x288 with 2 Axes>"
      ]
     },
     "metadata": {
      "needs_background": "light"
     },
     "output_type": "display_data"
    }
   ],
   "source": [
    "X_train, X_test, y_train, y_test = train_test_split(data.loc[:,'0'], \n",
    "                                                    data.loc[:,'1'], \n",
    "                                                    test_size=0.20, random_state=0)\n",
    "\n",
    "# set up data generators\n",
    "train_generator = tfidf_generator(tfidf, dictionary, X_train, y_train)\n",
    "test_generator = tfidf_generator(tfidf, dictionary, X_test, y_test)\n",
    "\n",
    "# train the model\n",
    "tfidf_model.fit(train_generator)\n",
    "\n",
    "# evaluate the model\n",
    "y_pred = tfidf_model.predict(test_generator)\n",
    "cm(test_generator.get_y_true(), np.argmax(y_pred, axis=1))"
   ]
  },
  {
   "cell_type": "markdown",
   "metadata": {},
   "source": [
    "The result here is ok, it's better than 1/3 random chance and so at ~65% it's halfway there(?). It seems to be favouring Kyle in the confusion matrix, so let's try balance the data."
   ]
  },
  {
   "cell_type": "code",
   "execution_count": 8,
   "metadata": {},
   "outputs": [
    {
     "data": {
      "text/plain": [
       "Kyle      634\n",
       "Lan       323\n",
       "George    261\n",
       "Name: 1, dtype: int64"
      ]
     },
     "execution_count": 8,
     "metadata": {},
     "output_type": "execute_result"
    }
   ],
   "source": [
    "data['1'].value_counts()"
   ]
  },
  {
   "cell_type": "code",
   "execution_count": 9,
   "metadata": {},
   "outputs": [],
   "source": [
    "def balanced_sample_maker(X, y, sample_size, random_seed=None):\n",
    "    \"\"\" return a balanced data set by sampling all classes with sample_size \n",
    "        current version is developed on assumption that the positive\n",
    "        class is the minority.\n",
    "        \n",
    "    Author: Kevin Mader on StackOverflow\n",
    "\n",
    "    Parameters:\n",
    "    ===========\n",
    "    X: {numpy.ndarrray}\n",
    "    y: {numpy.ndarray}\n",
    "    \"\"\"\n",
    "    uniq_levels = np.unique(y)\n",
    "    uniq_counts = {level: sum(y == level) for level in uniq_levels}\n",
    "\n",
    "    if not random_seed is None:\n",
    "        np.random.seed(random_seed)\n",
    "\n",
    "    # find observation index of each class levels\n",
    "    groupby_levels = {}\n",
    "    for ii, level in enumerate(uniq_levels):\n",
    "        obs_idx = [idx for idx, val in enumerate(y) if val == level]\n",
    "        groupby_levels[level] = obs_idx\n",
    "    # oversampling on observations of each label\n",
    "    balanced_copy_idx = []\n",
    "    for gb_level, gb_idx in groupby_levels.items():\n",
    "        over_sample_idx = np.random.choice(gb_idx, size=sample_size, replace=True).tolist()\n",
    "        balanced_copy_idx+=over_sample_idx\n",
    "    np.random.shuffle(balanced_copy_idx)\n",
    "\n",
    "    return X.iloc[balanced_copy_idx], y.iloc[balanced_copy_idx], balanced_copy_idx"
   ]
  },
  {
   "cell_type": "code",
   "execution_count": 10,
   "metadata": {},
   "outputs": [
    {
     "name": "stdout",
     "output_type": "stream",
     "text": [
      "WARNING:tensorflow:sample_weight modes were coerced from\n",
      "  ...\n",
      "    to  \n",
      "  ['...']\n",
      "Train for 626 steps\n",
      "Epoch 1/2\n",
      "626/626 [==============================] - 4s 6ms/step - loss: 0.9645 - accuracy: 0.5463\n",
      "Epoch 2/2\n",
      "626/626 [==============================] - 3s 5ms/step - loss: 0.4033 - accuracy: 0.8626\n",
      "Test accuracy: 0.76\n"
     ]
    },
    {
     "data": {
      "image/png": "[encoded data removed]",
      "text/plain": [
       "<Figure size 432x288 with 2 Axes>"
      ]
     },
     "metadata": {
      "needs_background": "light"
     },
     "output_type": "display_data"
    }
   ],
   "source": [
    "balanced_tfidf_model = Sequential(\n",
    "    [\n",
    "        Input(shape=(2084,)),\n",
    "        Dense(200, activation=\"relu\", name=\"layer1\"),\n",
    "        Dense(3, name=\"output\", activation=\"softmax\"),\n",
    "    ]\n",
    ")\n",
    "balanced_tfidf_model.compile(loss='categorical_crossentropy', optimizer='adam', metrics=['accuracy'])\n",
    "\n",
    "X, y, _ = balanced_sample_maker(data.loc[:,'0'], data.loc[:,'1'], 261)\n",
    "X_train, X_test, y_train, y_test = train_test_split(X, y, test_size=0.20, random_state=0)\n",
    "\n",
    "# set up data generators\n",
    "train_generator = tfidf_generator(tfidf, dictionary, X_train, y_train)\n",
    "test_generator = tfidf_generator(tfidf, dictionary, X_test, y_test)\n",
    "\n",
    "# train the model\n",
    "balanced_tfidf_model.fit(train_generator, epochs=2)\n",
    "\n",
    "# evaluate the model\n",
    "y_pred = balanced_tfidf_model.predict(test_generator)\n",
    "cm(test_generator.get_y_true(), np.argmax(y_pred, axis=1))"
   ]
  },
  {
   "cell_type": "markdown",
   "metadata": {},
   "source": [
    "That's an improvement! Far fewer false-positives.\n",
    "\n",
    "Now lets try something more sophisticated:"
   ]
  },
  {
   "cell_type": "markdown",
   "metadata": {},
   "source": [
    "## Training a NN with BERT-Generated Vectors"
   ]
  },
  {
   "cell_type": "code",
   "execution_count": 11,
   "metadata": {},
   "outputs": [],
   "source": [
    "bert_urls = [\"bert vectors/adversarial-examples-protein-folding-and-shaley-values_bert.csv\",\n",
    "            \"bert vectors/dark-secrets-of-bert-radioactive-data-and-vanishing-gradients_bert.csv\",\n",
    "            \"bert vectors/ep1_bert.csv\",\n",
    "            \"bert vectors/intro-narration-raw_bert.csv\",\n",
    "            \"bert vectors/JC-EP-12_bert.csv\",\n",
    "            \"bert vectors/JC-Ep2-DS-Page_bert.csv\"]\n",
    "\n",
    "data = pd.read_csv(bert_urls[0])\n",
    "\n",
    "for url in bert_urls[1:]:\n",
    "    data_m = pd.read_csv(url)\n",
    "    data = pd.concat([data, data_m])"
   ]
  },
  {
   "cell_type": "markdown",
   "metadata": {},
   "source": [
    "Using the [BERT Language Model](http://jalammar.github.io/a-visual-guide-to-using-bert-for-the-first-time/) I generated vector representations of our entire corpus. "
   ]
  },
  {
   "cell_type": "code",
   "execution_count": 12,
   "metadata": {},
   "outputs": [
    {
     "data": {
      "text/html": [
       "<div>\n",
       "<style scoped>\n",
       "    .dataframe tbody tr th:only-of-type {\n",
       "        vertical-align: middle;\n",
       "    }\n",
       "\n",
       "    .dataframe tbody tr th {\n",
       "        vertical-align: top;\n",
       "    }\n",
       "\n",
       "    .dataframe thead th {\n",
       "        text-align: right;\n",
       "    }\n",
       "</style>\n",
       "<table border=\"1\" class=\"dataframe\">\n",
       "  <thead>\n",
       "    <tr style=\"text-align: right;\">\n",
       "      <th></th>\n",
       "      <th>0</th>\n",
       "      <th>1</th>\n",
       "      <th>2</th>\n",
       "      <th>3</th>\n",
       "      <th>4</th>\n",
       "      <th>5</th>\n",
       "      <th>6</th>\n",
       "      <th>7</th>\n",
       "      <th>8</th>\n",
       "      <th>9</th>\n",
       "      <th>...</th>\n",
       "      <th>759</th>\n",
       "      <th>760</th>\n",
       "      <th>761</th>\n",
       "      <th>762</th>\n",
       "      <th>763</th>\n",
       "      <th>764</th>\n",
       "      <th>765</th>\n",
       "      <th>766</th>\n",
       "      <th>767</th>\n",
       "      <th>label</th>\n",
       "    </tr>\n",
       "  </thead>\n",
       "  <tbody>\n",
       "    <tr>\n",
       "      <th>0</th>\n",
       "      <td>-0.050656</td>\n",
       "      <td>-0.097459</td>\n",
       "      <td>0.152361</td>\n",
       "      <td>-0.114675</td>\n",
       "      <td>-0.101158</td>\n",
       "      <td>-0.315727</td>\n",
       "      <td>0.340263</td>\n",
       "      <td>0.564517</td>\n",
       "      <td>0.009753</td>\n",
       "      <td>-0.314720</td>\n",
       "      <td>...</td>\n",
       "      <td>-0.101649</td>\n",
       "      <td>-0.018223</td>\n",
       "      <td>-0.383690</td>\n",
       "      <td>0.211063</td>\n",
       "      <td>-0.068506</td>\n",
       "      <td>-0.203341</td>\n",
       "      <td>0.049656</td>\n",
       "      <td>0.611221</td>\n",
       "      <td>0.287434</td>\n",
       "      <td>Kyle</td>\n",
       "    </tr>\n",
       "    <tr>\n",
       "      <th>1</th>\n",
       "      <td>0.022924</td>\n",
       "      <td>0.124248</td>\n",
       "      <td>-0.040365</td>\n",
       "      <td>-0.102556</td>\n",
       "      <td>-0.158542</td>\n",
       "      <td>-0.267900</td>\n",
       "      <td>0.242012</td>\n",
       "      <td>0.626368</td>\n",
       "      <td>-0.294723</td>\n",
       "      <td>-0.409109</td>\n",
       "      <td>...</td>\n",
       "      <td>-0.135764</td>\n",
       "      <td>-0.097523</td>\n",
       "      <td>-0.273424</td>\n",
       "      <td>0.207192</td>\n",
       "      <td>0.044909</td>\n",
       "      <td>-0.195405</td>\n",
       "      <td>-0.030666</td>\n",
       "      <td>0.407373</td>\n",
       "      <td>0.265958</td>\n",
       "      <td>Lan</td>\n",
       "    </tr>\n",
       "    <tr>\n",
       "      <th>2</th>\n",
       "      <td>0.183041</td>\n",
       "      <td>-0.048330</td>\n",
       "      <td>0.123398</td>\n",
       "      <td>-0.294040</td>\n",
       "      <td>-0.093102</td>\n",
       "      <td>-0.226358</td>\n",
       "      <td>0.095844</td>\n",
       "      <td>0.419580</td>\n",
       "      <td>-0.141061</td>\n",
       "      <td>-0.157787</td>\n",
       "      <td>...</td>\n",
       "      <td>-0.212796</td>\n",
       "      <td>0.047362</td>\n",
       "      <td>-0.286696</td>\n",
       "      <td>0.213806</td>\n",
       "      <td>0.049149</td>\n",
       "      <td>-0.271264</td>\n",
       "      <td>-0.012782</td>\n",
       "      <td>0.381192</td>\n",
       "      <td>0.331348</td>\n",
       "      <td>George</td>\n",
       "    </tr>\n",
       "    <tr>\n",
       "      <th>3</th>\n",
       "      <td>0.023248</td>\n",
       "      <td>0.002814</td>\n",
       "      <td>0.056239</td>\n",
       "      <td>0.042267</td>\n",
       "      <td>-0.128903</td>\n",
       "      <td>-0.382420</td>\n",
       "      <td>0.172569</td>\n",
       "      <td>0.391190</td>\n",
       "      <td>-0.270455</td>\n",
       "      <td>-0.266405</td>\n",
       "      <td>...</td>\n",
       "      <td>-0.203693</td>\n",
       "      <td>-0.068308</td>\n",
       "      <td>-0.356595</td>\n",
       "      <td>0.069920</td>\n",
       "      <td>0.136549</td>\n",
       "      <td>-0.145512</td>\n",
       "      <td>-0.160707</td>\n",
       "      <td>0.553683</td>\n",
       "      <td>0.272639</td>\n",
       "      <td>Kyle</td>\n",
       "    </tr>\n",
       "    <tr>\n",
       "      <th>4</th>\n",
       "      <td>-0.032686</td>\n",
       "      <td>0.036833</td>\n",
       "      <td>0.035956</td>\n",
       "      <td>-0.028957</td>\n",
       "      <td>-0.107845</td>\n",
       "      <td>-0.236589</td>\n",
       "      <td>0.044480</td>\n",
       "      <td>0.251513</td>\n",
       "      <td>-0.177570</td>\n",
       "      <td>-0.329692</td>\n",
       "      <td>...</td>\n",
       "      <td>-0.234491</td>\n",
       "      <td>0.023923</td>\n",
       "      <td>-0.103210</td>\n",
       "      <td>0.026622</td>\n",
       "      <td>0.132827</td>\n",
       "      <td>-0.134265</td>\n",
       "      <td>-0.235072</td>\n",
       "      <td>0.339977</td>\n",
       "      <td>0.422955</td>\n",
       "      <td>Lan</td>\n",
       "    </tr>\n",
       "  </tbody>\n",
       "</table>\n",
       "<p>5 rows × 769 columns</p>\n",
       "</div>"
      ],
      "text/plain": [
       "          0         1         2         3         4         5         6  \\\n",
       "0 -0.050656 -0.097459  0.152361 -0.114675 -0.101158 -0.315727  0.340263   \n",
       "1  0.022924  0.124248 -0.040365 -0.102556 -0.158542 -0.267900  0.242012   \n",
       "2  0.183041 -0.048330  0.123398 -0.294040 -0.093102 -0.226358  0.095844   \n",
       "3  0.023248  0.002814  0.056239  0.042267 -0.128903 -0.382420  0.172569   \n",
       "4 -0.032686  0.036833  0.035956 -0.028957 -0.107845 -0.236589  0.044480   \n",
       "\n",
       "          7         8         9  ...       759       760       761       762  \\\n",
       "0  0.564517  0.009753 -0.314720  ... -0.101649 -0.018223 -0.383690  0.211063   \n",
       "1  0.626368 -0.294723 -0.409109  ... -0.135764 -0.097523 -0.273424  0.207192   \n",
       "2  0.419580 -0.141061 -0.157787  ... -0.212796  0.047362 -0.286696  0.213806   \n",
       "3  0.391190 -0.270455 -0.266405  ... -0.203693 -0.068308 -0.356595  0.069920   \n",
       "4  0.251513 -0.177570 -0.329692  ... -0.234491  0.023923 -0.103210  0.026622   \n",
       "\n",
       "        763       764       765       766       767   label  \n",
       "0 -0.068506 -0.203341  0.049656  0.611221  0.287434    Kyle  \n",
       "1  0.044909 -0.195405 -0.030666  0.407373  0.265958     Lan  \n",
       "2  0.049149 -0.271264 -0.012782  0.381192  0.331348  George  \n",
       "3  0.136549 -0.145512 -0.160707  0.553683  0.272639    Kyle  \n",
       "4  0.132827 -0.134265 -0.235072  0.339977  0.422955     Lan  \n",
       "\n",
       "[5 rows x 769 columns]"
      ]
     },
     "execution_count": 12,
     "metadata": {},
     "output_type": "execute_result"
    }
   ],
   "source": [
    "data.head()"
   ]
  },
  {
   "cell_type": "code",
   "execution_count": 68,
   "metadata": {},
   "outputs": [
    {
     "data": {
      "image/png": "[encoded data removed]",
      "text/plain": [
       "<Figure size 432x288 with 1 Axes>"
      ]
     },
     "metadata": {
      "needs_background": "light"
     },
     "output_type": "display_data"
    },
    {
     "name": "stdout",
     "output_type": "stream",
     "text": [
      "Test accuracy: 0.66\n"
     ]
    },
    {
     "data": {
      "image/png": "[encoded data removed]",
      "text/plain": [
       "<Figure size 432x288 with 2 Axes>"
      ]
     },
     "metadata": {
      "needs_background": "light"
     },
     "output_type": "display_data"
    }
   ],
   "source": [
    "bert_model = Sequential(\n",
    "    [\n",
    "        Input(shape=(768,)),\n",
    "        Dense(200, name=\"layer1\", activation=\"relu\"),\n",
    "        Dense(3, name=\"output\", activation=\"softmax\"),\n",
    "    ]\n",
    ")\n",
    "bert_model.compile(optimizer='adam', loss='categorical_crossentropy', metrics=['accuracy'])\n",
    "\n",
    "tidy_data = pd.get_dummies(data)\n",
    "\n",
    "X_train, X_test, y_train, y_test = train_test_split(tidy_data.loc[:,'0':'767'], \n",
    "                                                    tidy_data.loc[:,'label_George':'label_Lan'], \n",
    "                                                    test_size=0.10, random_state=0, \n",
    "                                                    stratify=tidy_data.loc[:,'label_George':'label_Lan'])\n",
    "\n",
    "history = bert_model.fit(X_train, y_train, epochs=25, verbose=0)\n",
    "plt.plot(history.history['loss'])\n",
    "plt.title(\"Loss\")\n",
    "plt.show()\n",
    "y_pred = bert_model.predict(X_test)\n",
    "cm(np.argmax(np.asarray(y_test), axis=1), np.argmax(y_pred, axis=1), names=[\"George\", \"Kyle\", \"Lan\"])"
   ]
  },
  {
   "cell_type": "code",
   "execution_count": 69,
   "metadata": {},
   "outputs": [
    {
     "data": {
      "image/png": "[encoded data removed]",
      "text/plain": [
       "<Figure size 432x288 with 1 Axes>"
      ]
     },
     "metadata": {
      "needs_background": "light"
     },
     "output_type": "display_data"
    },
    {
     "name": "stdout",
     "output_type": "stream",
     "text": [
      "Test accuracy: 0.68\n"
     ]
    },
    {
     "data": {
      "image/png": "[encoded data removed]",
      "text/plain": [
       "<Figure size 432x288 with 2 Axes>"
      ]
     },
     "metadata": {
      "needs_background": "light"
     },
     "output_type": "display_data"
    }
   ],
   "source": [
    "balanced_bert_model = Sequential(\n",
    "    [\n",
    "        Input(shape=(768,)),\n",
    "        Dense(200, name=\"layer1\", activation=\"relu\"),\n",
    "        Dense(3, name=\"output\", activation=\"softmax\"),\n",
    "    ]\n",
    ")\n",
    "balanced_bert_model.compile(optimizer='adam', loss='categorical_crossentropy', metrics=['accuracy'])\n",
    "\n",
    "X, y, _ = balanced_sample_maker(data.loc[:,'0':'767'], \n",
    "                                data.loc[:,'label'], 261)\n",
    "X_train, X_test, y_train, y_test = train_test_split(X, pd.get_dummies(y), \n",
    "                                                    test_size=0.10, random_state=0, stratify=y)\n",
    "\n",
    "history = balanced_bert_model.fit(X_train, y_train, epochs=25, verbose=0)\n",
    "plt.plot(history.history['loss'])\n",
    "plt.title(\"Loss\")\n",
    "plt.show()\n",
    "y_pred = balanced_bert_model.predict(X_test)\n",
    "cm(np.argmax(np.asarray(y_test), axis=1), np.argmax(y_pred, axis=1), names=[\"George\", \"Kyle\", \"Lan\"])"
   ]
  },
  {
   "cell_type": "markdown",
   "metadata": {},
   "source": [
    "## Comparing our Models on a Target Document"
   ]
  },
  {
   "cell_type": "code",
   "execution_count": 16,
   "metadata": {},
   "outputs": [],
   "source": [
    "url = \"csvs/tools-for-misusing-gpt-2-tensorflow-and-ml-unfairness.csv\"\n",
    "bert_url = \"bert vectors/tools-for-misusing-gpt-2-tensorflow-and-ml-unfairness_bert.csv\""
   ]
  },
  {
   "cell_type": "code",
   "execution_count": 17,
   "metadata": {},
   "outputs": [
    {
     "name": "stdout",
     "output_type": "stream",
     "text": [
      "UNBALANCED TF-IDF MODEL\n",
      "Test accuracy: 0.55\n"
     ]
    },
    {
     "data": {
      "image/png": "[encoded data removed]",
      "text/plain": [
       "<Figure size 432x288 with 2 Axes>"
      ]
     },
     "metadata": {
      "needs_background": "light"
     },
     "output_type": "display_data"
    },
    {
     "name": "stdout",
     "output_type": "stream",
     "text": [
      "BALANCED TF-IDF MODEL\n",
      "Test accuracy: 0.51\n"
     ]
    },
    {
     "data": {
      "image/png": "[encoded data removed]",
      "text/plain": [
       "<Figure size 432x288 with 2 Axes>"
      ]
     },
     "metadata": {
      "needs_background": "light"
     },
     "output_type": "display_data"
    }
   ],
   "source": [
    "tfidf_data = pd.read_csv(url)\n",
    "# set up data generator\n",
    "target_generator = tfidf_generator(tfidf, dictionary, tfidf_data.loc[:,'0'], tfidf_data.loc[:,'1'])\n",
    "\n",
    "# evaluate the tfidf model\n",
    "print(\"UNBALANCED TF-IDF MODEL\")\n",
    "y_pred = tfidf_model.predict(target_generator)\n",
    "cm(target_generator.get_y_true(), np.argmax(y_pred, axis=1))\n",
    "\n",
    "# evaluate the balanced tfidf model\n",
    "print(\"BALANCED TF-IDF MODEL\")\n",
    "y_pred = balanced_tfidf_model.predict(target_generator)\n",
    "cm(target_generator.get_y_true(), np.argmax(y_pred, axis=1))"
   ]
  },
  {
   "cell_type": "code",
   "execution_count": 70,
   "metadata": {},
   "outputs": [
    {
     "name": "stdout",
     "output_type": "stream",
     "text": [
      "UNBALANCED BERT MODEL\n",
      "Test accuracy: 0.54\n"
     ]
    },
    {
     "data": {
      "image/png": "[encoded data removed]",
      "text/plain": [
       "<Figure size 432x288 with 2 Axes>"
      ]
     },
     "metadata": {
      "needs_background": "light"
     },
     "output_type": "display_data"
    },
    {
     "name": "stdout",
     "output_type": "stream",
     "text": [
      "BALANCED BERT MODEL\n",
      "Test accuracy: 0.54\n"
     ]
    },
    {
     "data": {
      "image/png": "[encoded data removed]",
      "text/plain": [
       "<Figure size 432x288 with 2 Axes>"
      ]
     },
     "metadata": {
      "needs_background": "light"
     },
     "output_type": "display_data"
    }
   ],
   "source": [
    "bert_data = pd.read_csv(bert_url)\n",
    "\n",
    "tidy_bert_data = pd.get_dummies(bert_data)\n",
    "\n",
    "X_train, X_test, y_train, y_test = train_test_split(tidy_data.loc[:,'0':'767'], \n",
    "                                                    tidy_data.loc[:,'label_George':'label_Lan'], \n",
    "                                                    test_size=0.20, random_state=0)\n",
    "\n",
    "# evaluate the bert model\n",
    "print(\"UNBALANCED BERT MODEL\")\n",
    "y_pred = bert_model.predict(tidy_bert_data.loc[:,'0':'767'])\n",
    "cm(np.argmax(np.asarray(tidy_bert_data.loc[:,'label_George':'label_Lan']), axis=1), \n",
    "   np.argmax(y_pred, axis=1), names=[\"George\", \"Kyle\", \"Lan\"])\n",
    "\n",
    "# evaluate the balanced bert model\n",
    "print(\"BALANCED BERT MODEL\")\n",
    "y_pred = balanced_bert_model.predict(tidy_bert_data.loc[:,'0':'767'])\n",
    "cm(np.argmax(np.asarray(tidy_bert_data.loc[:,'label_George':'label_Lan']), axis=1), \n",
    "   np.argmax(y_pred, axis=1), names=[\"George\", \"Kyle\", \"Lan\"])"
   ]
  },
  {
   "cell_type": "code",
   "execution_count": null,
   "metadata": {},
   "outputs": [],
   "source": []
  }
 ],
 "metadata": {
  "kernelspec": {
   "display_name": "Python 3",
   "language": "python",
   "name": "python3"
  },
  "language_info": {
   "codemirror_mode": {
    "name": "ipython",
    "version": 3
   },
   "file_extension": ".py",
   "mimetype": "text/x-python",
   "name": "python",
   "nbconvert_exporter": "python",
   "pygments_lexer": "ipython3",
   "version": "3.7.7"
  }
 },
 "nbformat": 4,
 "nbformat_minor": 4
}
