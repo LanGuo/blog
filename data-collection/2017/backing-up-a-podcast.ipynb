{
 "cells": [
  {
   "cell_type": "markdown",
   "metadata": {},
   "source": [
    "## Backing Up a Podcast\n",
    "\n",
    "Everything on the internet is there forever.  Right?  It depends on what you mean.  If something makes it into the Internet Archive, I feel pretty confident it will be around for the duration of my lifetime.  Yet, I'm from a time right on the cusp on when permenance became a possibility.  I can name many bands that were just a few years to early to appear on Youtube and get an album into iTunes.  Those works are much more at risk of bitrot.\n",
    "\n",
    "Similarly, there are a few things I sometimes worry about.  I've seen good podcasts unexpectedly end.  When those podcasters fail to pay their hosting company, the files eventually get deleted and there's no way to retrieve it.\n",
    "\n",
    "While I'm not ready to start the Internet Archive for Podcasts, I do have a few shows that I'm fond of and want to keep a copy of.  I realized this evening that there were two I needed to backup for my own personal archive.  Those are the [Computational Complexity Cast](http://oldblog.computationalcomplexity.org/podcast.xml) with \n",
    "Lance Fortnow and Bill Gasarch.  To any listeners or readers of Data Skeptic, my love of that show will seem rather obvious.  The second show I want to backup is the [Encounters Podcast](http://feeds2.feedburner.com/EncountersNorth) with Richard Nelson.  That might not seem like something I'd obviously like, but I must confess I treasure this show and encourage you to check it out.  If you don't understand why, email me, and we'll discuss.\n",
    "\n",
    "The function below will make you a local backup."
   ]
  },
  {
   "cell_type": "code",
   "execution_count": 75,
   "metadata": {},
   "outputs": [],
   "source": [
    "import requests\n",
    "import xmltodict\n",
    "import os"
   ]
  },
  {
   "cell_type": "code",
   "execution_count": 101,
   "metadata": {
    "collapsed": true
   },
   "outputs": [],
   "source": [
    "def backup_podcast(url, dname):\n",
    "    r = requests.get(url)\n",
    "    rss = xmltodict.parse(r.content)\n",
    "    items = rss['rss']['channel']['item']\n",
    "    files = []\n",
    "    for item in items:\n",
    "        if 'link' in item:\n",
    "            file = item['link']\n",
    "        else:\n",
    "            file = item['enclosure']['@url']\n",
    "        files.append(file)\n",
    "        i = len(files)\n",
    "        for file in files:\n",
    "            fname = dname + '/' + file[file.rfind('/')+1:]\n",
    "            if not(os.path.isfile(fname)):\n",
    "                r = requests.get(file)\n",
    "                b = r.content\n",
    "                f = open(fname, 'wb')\n",
    "                f.write(b)\n",
    "                f.close()\n",
    "                i -= 1"
   ]
  },
  {
   "cell_type": "code",
   "execution_count": 95,
   "metadata": {
    "collapsed": true
   },
   "outputs": [],
   "source": [
    "dname = 'encounters'\n",
    "url = 'http://feeds2.feedburner.com/EncountersNorth'"
   ]
  },
  {
   "cell_type": "code",
   "execution_count": 102,
   "metadata": {},
   "outputs": [],
   "source": [
    "backup_podcast(url, dname)"
   ]
  },
  {
   "cell_type": "code",
   "execution_count": 85,
   "metadata": {
    "collapsed": true
   },
   "outputs": [],
   "source": [
    "dname = 'complexity'\n",
    "url = 'http://oldblog.computationalcomplexity.org/podcast.xml'"
   ]
  },
  {
   "cell_type": "code",
   "execution_count": 94,
   "metadata": {},
   "outputs": [],
   "source": [
    "backup_podcast(url, dname)"
   ]
  }
 ],
 "metadata": {
  "kernelspec": {
   "display_name": "Python 3",
   "language": "python",
   "name": "python3"
  },
  "language_info": {
   "codemirror_mode": {
    "name": "ipython",
    "version": 3
   },
   "file_extension": ".py",
   "mimetype": "text/x-python",
   "name": "python",
   "nbconvert_exporter": "python",
   "pygments_lexer": "ipython3",
   "version": "3.5.2"
  }
 },
 "nbformat": 4,
 "nbformat_minor": 2
}
