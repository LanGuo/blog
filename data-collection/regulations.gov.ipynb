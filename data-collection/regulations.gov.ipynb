{
 "cells": [
  {
   "cell_type": "markdown",
   "metadata": {},
   "source": [
    "## Getting set up\n",
    "\n",
    "* Sign up for an API account at [http://regulationsgov.github.io/developers/key/](http://regulationsgov.github.io/developers/key/)\n",
    "\n",
    "* This blog post goes over the minimum set of parameters that I found useful when consuming this API  For a full list of options, visit [http://regulationsgov.github.io/developers/console/](http://regulationsgov.github.io/developers/console/) and click \"Expanded operations\".\n",
    "\n",
    "\n",
    "### Searching for documents\n",
    "\n",
    "The first endpoint of interest in [https://api.data.gov/regulations/v3/documents\n",
    "](https://api.data.gov/regulations/v3/documents\n",
    ").  This endpoint can be used to search for documents in the system using the parameters in the table below.\n",
    "\n",
    "Add any number of querystring parameters to refind the query to your needs:\n",
    "\n",
    "| Attribute     | Description\n",
    "| ------------- |:-----------------------------\n",
    "| api_key       | Get this from the first link \n",
    "| s             | Keywords \n",
    "| rpp           | Results per page, max=1000\n",
    "| po            | Page offset, starting at 0\n",
    "| crd           | Creation date, accepts date as MM/DD/YY or range as MM/DD/YY-MM/DD/YY\n",
    "| cat           | Document category, for our interests, we wanted \"AEP\" for Agriculture, Environment, and Public Lands\n",
    "| dct           | Document type, for our interest, we wanted \"PS\" for Public Submission.  We won't use this in the first call we make, but later on in this post we will."
   ]
  },
  {
   "cell_type": "code",
   "execution_count": 173,
   "metadata": {
    "collapsed": true
   },
   "outputs": [],
   "source": [
    "import requests\n",
    "import pandas as pd\n",
    "import json\n",
    "import sys\n",
    "from cStringIO import StringIO"
   ]
  },
  {
   "cell_type": "code",
   "execution_count": 174,
   "metadata": {
    "collapsed": false
   },
   "outputs": [
    {
     "ename": "AttributeError",
     "evalue": "'module' object has no attribute 'setdefaultencoding'",
     "output_type": "error",
     "traceback": [
      "\u001b[0;31m---------------------------------------------------------------------------\u001b[0m",
      "\u001b[0;31mAttributeError\u001b[0m                            Traceback (most recent call last)",
      "\u001b[0;32m<ipython-input-174-227b765d3c4e>\u001b[0m in \u001b[0;36m<module>\u001b[0;34m()\u001b[0m\n\u001b[0;32m----> 1\u001b[0;31m \u001b[0msys\u001b[0m\u001b[0;34m.\u001b[0m\u001b[0msetdefaultencoding\u001b[0m\u001b[0;34m(\u001b[0m\u001b[0;34m'utf8'\u001b[0m\u001b[0;34m)\u001b[0m\u001b[0;34m\u001b[0m\u001b[0m\n\u001b[0m",
      "\u001b[0;31mAttributeError\u001b[0m: 'module' object has no attribute 'setdefaultencoding'"
     ]
    }
   ],
   "source": [
    "sys.setdefaultencoding('utf8')"
   ]
  },
  {
   "cell_type": "code",
   "execution_count": 121,
   "metadata": {
    "collapsed": true
   },
   "outputs": [],
   "source": [
    "\"\"\"\n",
    "from pdfminer.pdfparser import PDFParser\n",
    "from pdfminer.pdfdocument import PDFDocument\n",
    "from pdfminer.pdfpage import PDFPage\n",
    "from pdfminer.pdfpage import PDFTextExtractionNotAllowed\n",
    "from pdfminer.pdfinterp import PDFResourceManager\n",
    "from pdfminer.pdfinterp import PDFPageInterpreter\n",
    "from pdfminer.pdfdevice import PDFDevice\n",
    "\"\"\""
   ]
  },
  {
   "cell_type": "code",
   "execution_count": 148,
   "metadata": {
    "collapsed": true
   },
   "outputs": [],
   "source": [
    "import sys\n",
    "from pdfminer.pdfinterp import PDFResourceManager, PDFPageInterpreter\n",
    "from pdfminer.pdfpage import PDFPage\n",
    "from pdfminer.converter import XMLConverter, HTMLConverter, TextConverter\n",
    "from pdfminer.layout import LAParams\n",
    "from cStringIO import StringIO"
   ]
  },
  {
   "cell_type": "code",
   "execution_count": 2,
   "metadata": {
    "collapsed": true
   },
   "outputs": [],
   "source": [
    "api_key = '7Y0o4SFuUinwlekLUkvzMsnBFu9GBSGb4ofkhuzk'"
   ]
  },
  {
   "cell_type": "code",
   "execution_count": 64,
   "metadata": {
    "collapsed": true
   },
   "outputs": [],
   "source": [
    "keywords = 'water'\n",
    "results_per_page = 1000\n",
    "page_offset = 0\n",
    "creation_range = '01/01/16-11/01/16'\n",
    "category = 'AEP'"
   ]
  },
  {
   "cell_type": "code",
   "execution_count": 67,
   "metadata": {
    "collapsed": false
   },
   "outputs": [],
   "source": [
    "uri_template = 'https://api.data.gov/regulations/v3/documents?api_key={}&s={}&rpp={}&po={}&crd={}&cat={}'\n",
    "uri = uri_template.format(api_key, keywords, results_per_page, page_offset, creation_range, category)\n",
    "r = requests.get(uri)"
   ]
  },
  {
   "cell_type": "code",
   "execution_count": 68,
   "metadata": {
    "collapsed": false
   },
   "outputs": [
    {
     "name": "stdout",
     "output_type": "stream",
     "text": [
      "Found 685 results.\n"
     ]
    }
   ],
   "source": [
    "search_result = json.loads(r.content)\n",
    "print('Found ' + str(search_result['totalNumRecords']) + ' results.')"
   ]
  },
  {
   "cell_type": "markdown",
   "metadata": {},
   "source": [
    "Here's an example of the first result:"
   ]
  },
  {
   "cell_type": "code",
   "execution_count": 61,
   "metadata": {
    "collapsed": false
   },
   "outputs": [
    {
     "name": "stdout",
     "output_type": "stream",
     "text": [
      "{\n",
      "    \"agencyAcronym\": \"EPA\", \n",
      "    \"allowLateComment\": false, \n",
      "    \"attachmentCount\": 0, \n",
      "    \"commentDueDate\": \"2016-12-28T23:59:59-05:00\", \n",
      "    \"commentStartDate\": \"2016-09-29T00:00:00-04:00\", \n",
      "    \"docketId\": \"EPA-HQ-OW-2016-0405\", \n",
      "    \"docketTitle\": \"Federal Baseline Water Quality Standards for Indian Reservations\", \n",
      "    \"docketType\": \"Rulemaking\", \n",
      "    \"documentId\": \"EPA-HQ-OW-2016-0405-0001\", \n",
      "    \"documentStatus\": \"Posted\", \n",
      "    \"documentType\": \"Proposed Rule\", \n",
      "    \"frNumber\": \"2016-23432\", \n",
      "    \"numberOfCommentsReceived\": 0, \n",
      "    \"openForComment\": true, \n",
      "    \"postedDate\": \"2016-09-29T00:00:00-04:00\", \n",
      "    \"rin\": \"2060-AF62\", \n",
      "    \"summary\": \"Document Contents : ...OW-2016-0405; FRL-9953-19-OW] RIN 2040-AF62 Federal Baseline <endeca_term>Water</endeca_term> Quality Standards for Indian Reservations AGENCY: Environmental Protection Agency (EPA). ACTION: Advance...\", \n",
      "    \"title\": \"Federal Baseline Water Quality Standards: Indian Reservations\"\n",
      "}\n"
     ]
    }
   ],
   "source": [
    "doc = search_result['documents'][0]\n",
    "print(json.dumps(doc, indent=4, sort_keys=True))"
   ]
  },
  {
   "cell_type": "markdown",
   "metadata": {},
   "source": [
    "### Document lookup\n",
    "\n",
    "Once you've gotten a longer list, you are likely to want further details on one or more of the results.  The document lookup ID can hlep with that, requiring your api_key and a documentId which can be found in the results identified previously.\n",
    "\n",
    "https://api.data.gov/regulations/v3/document"
   ]
  },
  {
   "cell_type": "code",
   "execution_count": 72,
   "metadata": {
    "collapsed": false
   },
   "outputs": [
    {
     "name": "stdout",
     "output_type": "stream",
     "text": [
      "EPA-HQ-OA-2013-0031-0009\n"
     ]
    }
   ],
   "source": [
    "uri_template = 'https://api.data.gov/regulations/v3/document?api_key={}&documentId={}'\n",
    "documentId = doc['documentId']\n",
    "print(documentId)\n",
    "uri = uri_template.format(api_key, documentId)"
   ]
  },
  {
   "cell_type": "code",
   "execution_count": 73,
   "metadata": {
    "collapsed": true
   },
   "outputs": [],
   "source": [
    "r = requests.get(uri)"
   ]
  },
  {
   "cell_type": "code",
   "execution_count": 74,
   "metadata": {
    "collapsed": true
   },
   "outputs": [],
   "source": [
    "first_doc = json.loads(r.content)"
   ]
  },
  {
   "cell_type": "markdown",
   "metadata": {},
   "source": [
    "The document response has a lot more details, so rather than printing it out here, let's just see some of what's available."
   ]
  },
  {
   "cell_type": "code",
   "execution_count": 77,
   "metadata": {
    "collapsed": false
   },
   "outputs": [
    {
     "name": "stdout",
     "output_type": "stream",
     "text": [
      "[u'allowLateComment', u'docketTitle', u'pageCount', u'receivedDate', u'abstract', u'rin', u'cfrPart', u'documentType', u'postedDate', u'numItemsRecieved', u'title', u'frCitation', u'docketType', u'openForComment', u'startEndPage', u'commentDueDate', u'status', u'federalRegisterNumber', u'agencyAcronym', u'docSubType', u'docketId', u'documentId', u'agencyName', u'attachmentCount', u'fileFormats']\n"
     ]
    }
   ],
   "source": [
    "print(first_doc.keys())"
   ]
  },
  {
   "cell_type": "markdown",
   "metadata": {},
   "source": [
    "### Dockets\n",
    "\n",
    "Dockets are \"organizational folders\" on the regulations.gov site.  I believe it has wider uses than my needs.  I believe Dockets can be helpful to find collections of documents that are related in some way.  For our interest, we want to retrieve all the comments for a given documentId of interest.  The Dockets endpoint helps us get some high level metadata about comments."
   ]
  },
  {
   "cell_type": "code",
   "execution_count": 98,
   "metadata": {
    "collapsed": true
   },
   "outputs": [],
   "source": [
    "doc_type = 'PS' # Public Submission\n",
    "parentDocumentId = 'EPA–R08–OAR–2015–0463'\n",
    "uri_template = 'https://api.data.gov/regulations/v3/docket?api_key={}&rpp={}&po={}&dct={}&docketId={}'\n",
    "uri = uri_template.format(api_key, results_per_page, page_offset, doc_type, parentDocumentId)"
   ]
  },
  {
   "cell_type": "code",
   "execution_count": 99,
   "metadata": {
    "collapsed": true
   },
   "outputs": [],
   "source": [
    "r = requests.get(uri)"
   ]
  },
  {
   "cell_type": "code",
   "execution_count": 100,
   "metadata": {
    "collapsed": false
   },
   "outputs": [
    {
     "name": "stdout",
     "output_type": "stream",
     "text": [
      "{\n",
      "    \"agency\": \"Environmental Protection Agency\", \n",
      "    \"agencyAcronym\": \"EPA\", \n",
      "    \"docketId\": \"EPA-R08-OAR-2015-0463\", \n",
      "    \"generic\": {\n",
      "        \"label\": \"Location\", \n",
      "        \"value\": \"R08-OAR\"\n",
      "    }, \n",
      "    \"numberOfComments\": 151, \n",
      "    \"rin\": \"Not Assigned\", \n",
      "    \"title\": \"Approval and Promulgation of Air Quality Implementation Plans; Utah; Revisions to Regional Haze State Implementation Plan\", \n",
      "    \"type\": {\n",
      "        \"label\": \"Type\", \n",
      "        \"value\": \"Rulemaking\"\n",
      "    }\n",
      "}\n"
     ]
    }
   ],
   "source": [
    "docket_data = json.loads(r.content)\n",
    "print(json.dumps(docket_data, indent=4, sort_keys=True))"
   ]
  },
  {
   "cell_type": "markdown",
   "metadata": {},
   "source": [
    "Great, so for this particular proposal, we find 151 comments.  Let's retrieve them with the search API.\n",
    "\n",
    "To retrieve them, simply use the documentId you are interested as your search keyword, and ask for just public submissions (comments)."
   ]
  },
  {
   "cell_type": "code",
   "execution_count": 101,
   "metadata": {
    "collapsed": true
   },
   "outputs": [],
   "source": [
    "keywords = parentDocumentId\n",
    "results_per_page = 1000\n",
    "page_offset = 0\n",
    "doc_type = 'PS' # Public Submission"
   ]
  },
  {
   "cell_type": "code",
   "execution_count": 102,
   "metadata": {
    "collapsed": false
   },
   "outputs": [],
   "source": [
    "uri_template = 'https://api.data.gov/regulations/v3/documents?api_key={}&s={}&rpp={}&po={}&dct={}'\n",
    "uri = uri_template.format(api_key, keywords, results_per_page, page_offset, doc_type)\n",
    "r = requests.get(uri)"
   ]
  },
  {
   "cell_type": "code",
   "execution_count": 103,
   "metadata": {
    "collapsed": false
   },
   "outputs": [
    {
     "name": "stdout",
     "output_type": "stream",
     "text": [
      "Found 151 results.\n"
     ]
    }
   ],
   "source": [
    "search_result = json.loads(r.content)\n",
    "print('Found ' + str(search_result['totalNumRecords']) + ' results.')"
   ]
  },
  {
   "cell_type": "markdown",
   "metadata": {},
   "source": [
    "There's one last catch in us getting all the data we're interested in.  Some comments are totally in the response while some have attachments that may contain useful information for us.  Let's examine a few fields of the document below for which this is the case."
   ]
  },
  {
   "cell_type": "code",
   "execution_count": 159,
   "metadata": {
    "collapsed": false
   },
   "outputs": [
    {
     "name": "stdout",
     "output_type": "stream",
     "text": [
      "Attachment count: 2, Comment: See Attached\n"
     ]
    }
   ],
   "source": [
    "doc = search_result['documents'][0]\n",
    "print('Attachment count: ' + str(doc['attachmentCount']) + ', Comment: ' + doc['commentText'])"
   ]
  },
  {
   "cell_type": "markdown",
   "metadata": {},
   "source": [
    "Above we can see that there are two attachments to this document which are not a part of the API's response.  We can retrieve them in the manner shown below, which I believe is an undocumented feature of the API.  These attachments are (always?) PDF files.  Let's first retrieve them, and then convert them to text."
   ]
  },
  {
   "cell_type": "code",
   "execution_count": 160,
   "metadata": {
    "collapsed": false
   },
   "outputs": [
    {
     "name": "stdout",
     "output_type": "stream",
     "text": [
      "Fallon, Gail\n",
      "\n",
      "From:\n",
      "Sent:\n",
      "To:\n",
      "Cc:\n",
      "Subject:\n",
      "Attachm...\n"
     ]
    }
   ],
   "source": [
    "def pdf_to_text(pdf_string):\n",
    "    f = StringIO(pdf_string)\n",
    "    rsrcmgr = PDFResourceManager()\n",
    "    retstr = StringIO()\n",
    "    codec = 'utf-8'\n",
    "    laparams = LAParams()\n",
    "    device = TextConverter(rsrcmgr, retstr, codec=codec, laparams=laparams)\n",
    "    interpreter = PDFPageInterpreter(rsrcmgr, device)\n",
    "    for page in PDFPage.get_pages(f):\n",
    "        interpreter.process_page(page)\n",
    "        data =  retstr.getvalue()\n",
    "    return data\n",
    "\n",
    "data = pdf_to_text(r.content)\n",
    "print data[0:50] + '...'"
   ]
  },
  {
   "cell_type": "code",
   "execution_count": 206,
   "metadata": {
    "collapsed": false
   },
   "outputs": [
    {
     "data": {
      "text/plain": [
       "{u'agencyAcronym': u'EPA',\n",
       " u'allowLateComment': False,\n",
       " u'attachmentCount': 32,\n",
       " u'commentDueDate': u'2016-03-14T23:59:59-04:00',\n",
       " u'commentStartDate': u'2016-01-14T00:00:00-05:00',\n",
       " u'commentText': u'Comments from HEAL Utah, National Parks Conservation Association, and Sierra Club are attached, together with Exhibits 1-31.',\n",
       " u'docketId': u'EPA-R08-OAR-2015-0463',\n",
       " u'docketTitle': u'Approval and Promulgation of Air Quality Implementation Plans; Utah; Revisions to Regional Haze State Implementation Plan',\n",
       " u'docketType': u'Rulemaking',\n",
       " u'documentId': u'EPA-R08-OAR-2015-0463-0167',\n",
       " u'documentStatus': u'Posted',\n",
       " u'documentType': u'Public Submission',\n",
       " u'numberOfCommentsReceived': 1,\n",
       " u'openForComment': False,\n",
       " u'postedDate': u'2016-03-15T00:00:00-04:00',\n",
       " u'rin': u'Not Assigned',\n",
       " u'summary': u'Attachment Contents : ...Proposed Rule on Utah Regional Haze State Implementation Plan Docket <endeca_term>EPA-R08-OAR-2015-0463</endeca_term> Dear Ms. Fallon: On behalf of the HEAL Utah, National...',\n",
       " u'title': u'Comment on EPA-R08-OAR-2015-0463-0001'}"
      ]
     },
     "execution_count": 206,
     "metadata": {},
     "output_type": "execute_result"
    }
   ],
   "source": [
    "doc"
   ]
  },
  {
   "cell_type": "code",
   "execution_count": 183,
   "metadata": {
    "collapsed": false
   },
   "outputs": [],
   "source": [
    "def get_attachment_comments(documentId, attachmentCount):\n",
    "    comment = ''\n",
    "    uri_template = 'https://www.regulations.gov/contentStreamer?documentId={}&attachmentNumber={}&disposition=attachment'\n",
    "    for attachment_num in range(1, attachmentCount + 1):\n",
    "        uri = uri_template.format(documentId, attachment_num)\n",
    "        r = requests.get(uri)\n",
    "        sc = r.status_code\n",
    "        if sc == 200:\n",
    "            comment += pdf_to_text(r.content) + ' '\n",
    "        else:\n",
    "            print(\"Could not download \" + uri)\n",
    "    return unicode(comment, 'utf-8')"
   ]
  },
  {
   "cell_type": "markdown",
   "metadata": {},
   "source": [
    "## Ready to pull data\n",
    "With a few helper funcitons in place, we're now ready to iterate over our search results and grab our corpus."
   ]
  },
  {
   "cell_type": "code",
   "execution_count": 193,
   "metadata": {
    "collapsed": false
   },
   "outputs": [
    {
     "name": "stdout",
     "output_type": "stream",
     "text": [
      "Going to retrieve values for EPA–R08–OAR–2015–0463\n"
     ]
    }
   ],
   "source": [
    "print('Going to retrieve values for ' + parentDocumentId)"
   ]
  },
  {
   "cell_type": "code",
   "execution_count": 194,
   "metadata": {
    "collapsed": true
   },
   "outputs": [],
   "source": [
    "corpus = {}"
   ]
  },
  {
   "cell_type": "code",
   "execution_count": 204,
   "metadata": {
    "collapsed": true
   },
   "outputs": [],
   "source": [
    "corpus[parentDocumentId] = {}\n",
    "keywords = parentDocumentId\n",
    "results_per_page = 1000\n",
    "page_offset = 0\n",
    "doc_type = 'PS' # Public Submission"
   ]
  },
  {
   "cell_type": "markdown",
   "metadata": {},
   "source": [
    "# Fix last error below.  Someone uploaded a word doc instead of a PDF so this script breaks"
   ]
  },
  {
   "cell_type": "code",
   "execution_count": 205,
   "metadata": {
    "collapsed": false
   },
   "outputs": [
    {
     "name": "stdout",
     "output_type": "stream",
     "text": [
      "https://api.data.gov/regulations/v3/documents?api_key=7Y0o4SFuUinwlekLUkvzMsnBFu9GBSGb4ofkhuzk&s=EPA–R08–OAR–2015–0463&rpp=1000&po=0&dct=PS\n"
     ]
    },
    {
     "ename": "PDFSyntaxError",
     "evalue": "No /Root object! - Is this really a PDF?",
     "output_type": "error",
     "traceback": [
      "\u001b[0;31m---------------------------------------------------------------------------\u001b[0m",
      "\u001b[0;31mPDFSyntaxError\u001b[0m                            Traceback (most recent call last)",
      "\u001b[0;32m<ipython-input-205-6313404db0e7>\u001b[0m in \u001b[0;36m<module>\u001b[0;34m()\u001b[0m\n\u001b[1;32m     11\u001b[0m             \u001b[0mct\u001b[0m \u001b[0;34m=\u001b[0m \u001b[0mdoc\u001b[0m\u001b[0;34m[\u001b[0m\u001b[0;34m'commentText'\u001b[0m\u001b[0;34m]\u001b[0m\u001b[0;34m\u001b[0m\u001b[0m\n\u001b[1;32m     12\u001b[0m             \u001b[0;32mif\u001b[0m \u001b[0mdoc\u001b[0m\u001b[0;34m[\u001b[0m\u001b[0;34m'attachmentCount'\u001b[0m\u001b[0;34m]\u001b[0m \u001b[0;34m>\u001b[0m \u001b[0;36m0\u001b[0m\u001b[0;34m:\u001b[0m\u001b[0;34m\u001b[0m\u001b[0m\n\u001b[0;32m---> 13\u001b[0;31m                 \u001b[0macom\u001b[0m \u001b[0;34m=\u001b[0m \u001b[0mget_attachment_comments\u001b[0m\u001b[0;34m(\u001b[0m\u001b[0mdoc\u001b[0m\u001b[0;34m[\u001b[0m\u001b[0;34m'documentId'\u001b[0m\u001b[0;34m]\u001b[0m\u001b[0;34m,\u001b[0m \u001b[0mdoc\u001b[0m\u001b[0;34m[\u001b[0m\u001b[0;34m'attachmentCount'\u001b[0m\u001b[0;34m]\u001b[0m\u001b[0;34m)\u001b[0m\u001b[0;34m\u001b[0m\u001b[0m\n\u001b[0m\u001b[1;32m     14\u001b[0m                 \u001b[0mct\u001b[0m \u001b[0;34m+=\u001b[0m \u001b[0;34m' '\u001b[0m \u001b[0;34m+\u001b[0m \u001b[0macom\u001b[0m\u001b[0;34m\u001b[0m\u001b[0m\n\u001b[1;32m     15\u001b[0m             \u001b[0mcorpus\u001b[0m\u001b[0;34m[\u001b[0m\u001b[0mparentDocumentId\u001b[0m\u001b[0;34m]\u001b[0m\u001b[0;34m[\u001b[0m\u001b[0mthisDocumentId\u001b[0m\u001b[0;34m]\u001b[0m \u001b[0;34m=\u001b[0m \u001b[0mct\u001b[0m\u001b[0;34m\u001b[0m\u001b[0m\n",
      "\u001b[0;32m<ipython-input-183-75bbf56995e8>\u001b[0m in \u001b[0;36mget_attachment_comments\u001b[0;34m(documentId, attachmentCount)\u001b[0m\n\u001b[1;32m      7\u001b[0m         \u001b[0msc\u001b[0m \u001b[0;34m=\u001b[0m \u001b[0mr\u001b[0m\u001b[0;34m.\u001b[0m\u001b[0mstatus_code\u001b[0m\u001b[0;34m\u001b[0m\u001b[0m\n\u001b[1;32m      8\u001b[0m         \u001b[0;32mif\u001b[0m \u001b[0msc\u001b[0m \u001b[0;34m==\u001b[0m \u001b[0;36m200\u001b[0m\u001b[0;34m:\u001b[0m\u001b[0;34m\u001b[0m\u001b[0m\n\u001b[0;32m----> 9\u001b[0;31m             \u001b[0mcomment\u001b[0m \u001b[0;34m+=\u001b[0m \u001b[0mpdf_to_text\u001b[0m\u001b[0;34m(\u001b[0m\u001b[0mr\u001b[0m\u001b[0;34m.\u001b[0m\u001b[0mcontent\u001b[0m\u001b[0;34m)\u001b[0m \u001b[0;34m+\u001b[0m \u001b[0;34m' '\u001b[0m\u001b[0;34m\u001b[0m\u001b[0m\n\u001b[0m\u001b[1;32m     10\u001b[0m         \u001b[0;32melse\u001b[0m\u001b[0;34m:\u001b[0m\u001b[0;34m\u001b[0m\u001b[0m\n\u001b[1;32m     11\u001b[0m             \u001b[0;32mprint\u001b[0m\u001b[0;34m(\u001b[0m\u001b[0;34m\"Could not download \"\u001b[0m \u001b[0;34m+\u001b[0m \u001b[0muri\u001b[0m\u001b[0;34m)\u001b[0m\u001b[0;34m\u001b[0m\u001b[0m\n",
      "\u001b[0;32m<ipython-input-160-bc26a138917b>\u001b[0m in \u001b[0;36mpdf_to_text\u001b[0;34m(pdf_string)\u001b[0m\n\u001b[1;32m      7\u001b[0m     \u001b[0mdevice\u001b[0m \u001b[0;34m=\u001b[0m \u001b[0mTextConverter\u001b[0m\u001b[0;34m(\u001b[0m\u001b[0mrsrcmgr\u001b[0m\u001b[0;34m,\u001b[0m \u001b[0mretstr\u001b[0m\u001b[0;34m,\u001b[0m \u001b[0mcodec\u001b[0m\u001b[0;34m=\u001b[0m\u001b[0mcodec\u001b[0m\u001b[0;34m,\u001b[0m \u001b[0mlaparams\u001b[0m\u001b[0;34m=\u001b[0m\u001b[0mlaparams\u001b[0m\u001b[0;34m)\u001b[0m\u001b[0;34m\u001b[0m\u001b[0m\n\u001b[1;32m      8\u001b[0m     \u001b[0minterpreter\u001b[0m \u001b[0;34m=\u001b[0m \u001b[0mPDFPageInterpreter\u001b[0m\u001b[0;34m(\u001b[0m\u001b[0mrsrcmgr\u001b[0m\u001b[0;34m,\u001b[0m \u001b[0mdevice\u001b[0m\u001b[0;34m)\u001b[0m\u001b[0;34m\u001b[0m\u001b[0m\n\u001b[0;32m----> 9\u001b[0;31m     \u001b[0;32mfor\u001b[0m \u001b[0mpage\u001b[0m \u001b[0;32min\u001b[0m \u001b[0mPDFPage\u001b[0m\u001b[0;34m.\u001b[0m\u001b[0mget_pages\u001b[0m\u001b[0;34m(\u001b[0m\u001b[0mf\u001b[0m\u001b[0;34m)\u001b[0m\u001b[0;34m:\u001b[0m\u001b[0;34m\u001b[0m\u001b[0m\n\u001b[0m\u001b[1;32m     10\u001b[0m         \u001b[0minterpreter\u001b[0m\u001b[0;34m.\u001b[0m\u001b[0mprocess_page\u001b[0m\u001b[0;34m(\u001b[0m\u001b[0mpage\u001b[0m\u001b[0;34m)\u001b[0m\u001b[0;34m\u001b[0m\u001b[0m\n\u001b[1;32m     11\u001b[0m         \u001b[0mdata\u001b[0m \u001b[0;34m=\u001b[0m  \u001b[0mretstr\u001b[0m\u001b[0;34m.\u001b[0m\u001b[0mgetvalue\u001b[0m\u001b[0;34m(\u001b[0m\u001b[0;34m)\u001b[0m\u001b[0;34m\u001b[0m\u001b[0m\n",
      "\u001b[0;32m/usr/local/lib/python2.7/site-packages/pdfminer/pdfpage.pyc\u001b[0m in \u001b[0;36mget_pages\u001b[0;34m(klass, fp, pagenos, maxpages, password, caching, check_extractable)\u001b[0m\n\u001b[1;32m    119\u001b[0m         \u001b[0mparser\u001b[0m \u001b[0;34m=\u001b[0m \u001b[0mPDFParser\u001b[0m\u001b[0;34m(\u001b[0m\u001b[0mfp\u001b[0m\u001b[0;34m)\u001b[0m\u001b[0;34m\u001b[0m\u001b[0m\n\u001b[1;32m    120\u001b[0m         \u001b[0;31m# Create a PDF document object that stores the document structure.\u001b[0m\u001b[0;34m\u001b[0m\u001b[0;34m\u001b[0m\u001b[0m\n\u001b[0;32m--> 121\u001b[0;31m         \u001b[0mdoc\u001b[0m \u001b[0;34m=\u001b[0m \u001b[0mPDFDocument\u001b[0m\u001b[0;34m(\u001b[0m\u001b[0mparser\u001b[0m\u001b[0;34m,\u001b[0m \u001b[0mpassword\u001b[0m\u001b[0;34m=\u001b[0m\u001b[0mpassword\u001b[0m\u001b[0;34m,\u001b[0m \u001b[0mcaching\u001b[0m\u001b[0;34m=\u001b[0m\u001b[0mcaching\u001b[0m\u001b[0;34m)\u001b[0m\u001b[0;34m\u001b[0m\u001b[0m\n\u001b[0m\u001b[1;32m    122\u001b[0m         \u001b[0;31m# Check if the document allows text extraction. If not, abort.\u001b[0m\u001b[0;34m\u001b[0m\u001b[0;34m\u001b[0m\u001b[0m\n\u001b[1;32m    123\u001b[0m         \u001b[0;32mif\u001b[0m \u001b[0mcheck_extractable\u001b[0m \u001b[0;32mand\u001b[0m \u001b[0;32mnot\u001b[0m \u001b[0mdoc\u001b[0m\u001b[0;34m.\u001b[0m\u001b[0mis_extractable\u001b[0m\u001b[0;34m:\u001b[0m\u001b[0;34m\u001b[0m\u001b[0m\n",
      "\u001b[0;32m/usr/local/lib/python2.7/site-packages/pdfminer/pdfdocument.pyc\u001b[0m in \u001b[0;36m__init__\u001b[0;34m(self, parser, password, caching, fallback)\u001b[0m\n\u001b[1;32m    332\u001b[0m                 \u001b[0;32mbreak\u001b[0m\u001b[0;34m\u001b[0m\u001b[0m\n\u001b[1;32m    333\u001b[0m         \u001b[0;32melse\u001b[0m\u001b[0;34m:\u001b[0m\u001b[0;34m\u001b[0m\u001b[0m\n\u001b[0;32m--> 334\u001b[0;31m             \u001b[0;32mraise\u001b[0m \u001b[0mPDFSyntaxError\u001b[0m\u001b[0;34m(\u001b[0m\u001b[0;34m'No /Root object! - Is this really a PDF?'\u001b[0m\u001b[0;34m)\u001b[0m\u001b[0;34m\u001b[0m\u001b[0m\n\u001b[0m\u001b[1;32m    335\u001b[0m         \u001b[0;32mif\u001b[0m \u001b[0mself\u001b[0m\u001b[0;34m.\u001b[0m\u001b[0mcatalog\u001b[0m\u001b[0;34m.\u001b[0m\u001b[0mget\u001b[0m\u001b[0;34m(\u001b[0m\u001b[0;34m'Type'\u001b[0m\u001b[0;34m)\u001b[0m \u001b[0;32mis\u001b[0m \u001b[0;32mnot\u001b[0m \u001b[0mLITERAL_CATALOG\u001b[0m\u001b[0;34m:\u001b[0m\u001b[0;34m\u001b[0m\u001b[0m\n\u001b[1;32m    336\u001b[0m             \u001b[0;32mif\u001b[0m \u001b[0mSTRICT\u001b[0m\u001b[0;34m:\u001b[0m\u001b[0;34m\u001b[0m\u001b[0m\n",
      "\u001b[0;31mPDFSyntaxError\u001b[0m: No /Root object! - Is this really a PDF?"
     ]
    }
   ],
   "source": [
    "uri_template = 'https://api.data.gov/regulations/v3/documents?api_key={}&s={}&rpp={}&po={}&dct={}'\n",
    "nresults = 1000\n",
    "while results_per_page == nresults:\n",
    "    uri = uri_template.format(api_key, keywords, results_per_page, page_offset, doc_type)\n",
    "    print uri\n",
    "    r = requests.get(uri)\n",
    "    search_result = json.loads(r.content)\n",
    "    for doc in search_result['documents']:\n",
    "        thisDocumentId = doc['documentId']\n",
    "        if not(corpus[parentDocumentId].has_key(thisDocumentId)):\n",
    "            ct = doc['commentText']\n",
    "            if doc['attachmentCount'] > 0:\n",
    "                acom = get_attachment_comments(doc['documentId'], doc['attachmentCount'])\n",
    "                ct += ' ' + acom\n",
    "            corpus[parentDocumentId][thisDocumentId] = ct\n",
    "    page_offset += 1\n",
    "    nresults = len(search_result['documents'])"
   ]
  }
 ],
 "metadata": {
  "kernelspec": {
   "display_name": "Python 2",
   "language": "python",
   "name": "python2"
  },
  "language_info": {
   "codemirror_mode": {
    "name": "ipython",
    "version": 2
   },
   "file_extension": ".py",
   "mimetype": "text/x-python",
   "name": "python",
   "nbconvert_exporter": "python",
   "pygments_lexer": "ipython2",
   "version": "2.7.12"
  }
 },
 "nbformat": 4,
 "nbformat_minor": 1
}
