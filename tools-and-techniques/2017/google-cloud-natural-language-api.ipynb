{
 "cells": [
  {
   "cell_type": "markdown",
   "metadata": {},
   "source": [
    "## Google Cloud Natural Language API\n",
    "Today's blog post is a hands-on demo and evaluation of the [Google Cloud Natural Language API](https://cloud.google.com/natural-language/).  Like *all* cherry picked examples/demos, their site shows an impressive result in the system's ability to do entity identification, sentiment analysis, and extract syntax.  How will the results be on a real world dataset?\n",
    "\n",
    "As I've done previously, I'm going to use the episode short descriptions found in the Data Skeptic RSS feed.  At times, we've done extensive write ups, while for other episodes, these are terse and written at the last minute.  While we're striving to improve these with time, the older ones are admittedly not as good.  Let's keep that in mind as we evaluate."
   ]
  },
  {
   "cell_type": "markdown",
   "metadata": {},
   "source": [
    "This API allows a fairly generous free tier of 5k requests per month.  Requests beyond this are cheap enough that a graduate student could easily afford using it for their research.  At the time of writing this, it's $0.01 per use from 5k-1M requests, and progressively discounted after that.\n",
    "\n",
    "You will, however, need to take a few steps including enabling billing, as description in the [Quickstart](https://cloud.google.com/natural-language/docs/getting-started)."
   ]
  },
  {
   "cell_type": "markdown",
   "metadata": {},
   "source": [
    "While there are some Python wrapper libraries, I found them infuriatingly difficult to install and use.  I spent more time trying to get it working than to just code it directly via the RESTful API, so that's what I did in the code below."
   ]
  },
  {
   "cell_type": "markdown",
   "metadata": {},
   "source": [
    "### Get all episode descriptions as a list of strings"
   ]
  },
  {
   "cell_type": "code",
   "execution_count": 104,
   "metadata": {},
   "outputs": [],
   "source": [
    "%matplotlib inline\n",
    "import matplotlib.pyplot as plt\n",
    "import os\n",
    "import requests\n",
    "import xmltodict\n",
    "import json\n",
    "import pandas as pd\n",
    "import pickle\n",
    "from bs4 import BeautifulSoup"
   ]
  },
  {
   "cell_type": "code",
   "execution_count": 2,
   "metadata": {},
   "outputs": [],
   "source": [
    "# Get all the descriptions\n",
    "\n",
    "fname = 'feed.xml'\n",
    "url = 'http://dataskeptic.com/feed.rss'\n",
    "\n",
    "if not(os.path.isfile(fname)):\n",
    "    r = requests.get(url)\n",
    "    f = open(fname, 'wb')\n",
    "    f.write(r.text.encode('utf-8'))\n",
    "    f.close()\n",
    "\n",
    "with open(fname) as fd:\n",
    "    xml = xmltodict.parse(fd.read())\n",
    "\n",
    "episodes = xml['rss']['channel']['item']\n",
    "descriptions = []\n",
    "descToTitle = {}\n",
    "descToNum = {}\n",
    "l = len(episodes)\n",
    "for episode in episodes:\n",
    "    enclosure = episode['enclosure']\n",
    "    desc = episode['description']\n",
    "    desc = BeautifulSoup(desc, \"lxml\").text\n",
    "    descriptions.append(desc)\n",
    "    descToTitle[desc] = episode['title']\n",
    "    descToNum[desc] = l\n",
    "    l = l - 1"
   ]
  },
  {
   "cell_type": "code",
   "execution_count": 3,
   "metadata": {},
   "outputs": [
    {
     "data": {
      "text/plain": [
       "173"
      ]
     },
     "execution_count": 3,
     "metadata": {},
     "output_type": "execute_result"
    }
   ],
   "source": [
    "len(descriptions)"
   ]
  },
  {
   "cell_type": "markdown",
   "metadata": {},
   "source": [
    "### Let's do a quick test of a simple sentence"
   ]
  },
  {
   "cell_type": "code",
   "execution_count": 49,
   "metadata": {
    "collapsed": true
   },
   "outputs": [],
   "source": [
    "sentence = 'Data Skeptic is a podcast hosted by Kyle Polich.'"
   ]
  },
  {
   "cell_type": "code",
   "execution_count": 50,
   "metadata": {},
   "outputs": [],
   "source": [
    "api_key = json.load(open('gcloud-lang-api-key.json', 'r'))['api_key']"
   ]
  },
  {
   "cell_type": "code",
   "execution_count": 51,
   "metadata": {
    "collapsed": true
   },
   "outputs": [],
   "source": [
    "url = \"https://language.googleapis.com/v1/documents:analyzeEntities?key={api_key}\".format(api_key=api_key)"
   ]
  },
  {
   "cell_type": "code",
   "execution_count": 52,
   "metadata": {
    "collapsed": true
   },
   "outputs": [],
   "source": [
    "payload = {\n",
    "  \"encodingType\": \"UTF8\",\n",
    "  \"document\": {\n",
    "    \"type\": \"PLAIN_TEXT\",\n",
    "    \"content\": sentence\n",
    "  }\n",
    "}"
   ]
  },
  {
   "cell_type": "code",
   "execution_count": 53,
   "metadata": {},
   "outputs": [],
   "source": [
    "r = requests.post(url, data=json.dumps(payload))"
   ]
  },
  {
   "cell_type": "code",
   "execution_count": 54,
   "metadata": {},
   "outputs": [
    {
     "data": {
      "text/plain": [
       "200"
      ]
     },
     "execution_count": 54,
     "metadata": {},
     "output_type": "execute_result"
    }
   ],
   "source": [
    "r.status_code"
   ]
  },
  {
   "cell_type": "code",
   "execution_count": 55,
   "metadata": {},
   "outputs": [
    {
     "data": {
      "text/plain": [
       "{'entities': [{'mentions': [{'text': {'beginOffset': 0,\n",
       "      'content': 'Data Skeptic'},\n",
       "     'type': 'PROPER'},\n",
       "    {'text': {'beginOffset': 18, 'content': 'podcast'}, 'type': 'COMMON'}],\n",
       "   'metadata': {},\n",
       "   'name': 'Data Skeptic',\n",
       "   'salience': 0.91002035,\n",
       "   'type': 'WORK_OF_ART'},\n",
       "  {'mentions': [{'text': {'beginOffset': 36, 'content': 'Kyle Polich'},\n",
       "     'type': 'PROPER'}],\n",
       "   'metadata': {},\n",
       "   'name': 'Kyle Polich',\n",
       "   'salience': 0.089979626,\n",
       "   'type': 'PERSON'}],\n",
       " 'language': 'en'}"
      ]
     },
     "execution_count": 55,
     "metadata": {},
     "output_type": "execute_result"
    }
   ],
   "source": [
    "json.loads(r.content.decode('utf-8'))"
   ]
  },
  {
   "cell_type": "markdown",
   "metadata": {},
   "source": [
    "### Observations\n",
    "Looks good!  It identified two key ideas in this sentence.  Granted, a simple rule looking at capitalization would have been good enough to recognize the two important entities in the sentence.  It is yet to be seen how well the API performs identifying entities since this is an easy test.  Yet, notice how Data Skeptic is labeled as a \"Work of Art\" (thanks Google!) and Kyle Polich is labeled as a person, which only a few people have doubted to be true.\n",
    "\n",
    "Now, let's retrieve all the results for the podcast descriptions."
   ]
  },
  {
   "cell_type": "code",
   "execution_count": 80,
   "metadata": {
    "collapsed": true
   },
   "outputs": [],
   "source": [
    "results = {}\n",
    "for desc in descriptions:\n",
    "    if desc not in results:\n",
    "        payload = {\n",
    "          \"encodingType\": \"UTF8\", \"document\": {\n",
    "            \"type\": \"PLAIN_TEXT\", \"content\": desc }\n",
    "        }\n",
    "        r = requests.post(url, data=json.dumps(payload))\n",
    "        if r.status_code == 200:\n",
    "            results[desc] = json.loads(r.content.decode('utf-8'))\n",
    "        else:\n",
    "            print(\"ERROR with desc: \" + desc)"
   ]
  },
  {
   "cell_type": "code",
   "execution_count": 81,
   "metadata": {},
   "outputs": [],
   "source": [
    "pickle.dump(results, open('results.pickle', 'wb'))"
   ]
  },
  {
   "cell_type": "code",
   "execution_count": 131,
   "metadata": {
    "collapsed": true
   },
   "outputs": [],
   "source": [
    "# In the next section we'll use this function to extact data into a more useful data structure\n",
    "\n",
    "def extract_entities_as_rows(r):\n",
    "    rows = []\n",
    "    entities = r['entities']\n",
    "    for entity in entities:\n",
    "        mentions = entity['mentions']\n",
    "        if 'wikipedia_url' in entity['metadata']:\n",
    "            wiki = entity['metadata']['wikipedia_url']\n",
    "        else:\n",
    "            wiki = ''\n",
    "        row = {\n",
    "            \"num_mentions\": len(entity),\n",
    "            \"wiki_url\": wiki,\n",
    "            \"name\": entity['name'],\n",
    "            \"salience\": entity['salience'],\n",
    "            \"type\": entity['type']\n",
    "        }\n",
    "        rows.append(row)\n",
    "    return rows"
   ]
  },
  {
   "cell_type": "markdown",
   "metadata": {},
   "source": [
    "###   Now let's analyze the results!\n",
    "\n",
    "Let's take a totally arbitrary example and expore it.  I picked the episode we did on PageRank.  Below are the entities that were extracted, sorted by salience descending.  Ideally, the most important/relevant concepts are ranked near the top.  It definitely gets PageRank correct as the top concept.\n",
    "\n",
    "Beyond that the ordering is a bit mediocre, yet it's interesting to observe that the `wiki_url` is well mapped.  I noticed that \"search engine\" which *could* have been linked to some very generic wikipedia page is not.  I see this as a win.  Of the four Wiki links provided, this anacdote has a 100% match rate.  This gets me thinking about what I might do in the future taking these matches and linking them to the Wikipedia Knowledge Graph."
   ]
  },
  {
   "cell_type": "code",
   "execution_count": 136,
   "metadata": {},
   "outputs": [
    {
     "name": "stdout",
     "output_type": "stream",
     "text": [
      "PageRank is the algorithm most famous for being one of the original innovations that made Google stand out as a search engine. It was defined in the classic paper The Anatomy of a Large-Scale Hypertextual Web Search Engine by Sergey Brin and Larry Page. While this algorithm clearly impacted web searching, it has also been useful in a variety of other applications. This episode presents a high level description of this algorithm and how it might apply when trying to establish who writes the most influencial academic papers.\n"
     ]
    }
   ],
   "source": [
    "key = list(results.keys())[0]\n",
    "print(key)"
   ]
  },
  {
   "cell_type": "code",
   "execution_count": 137,
   "metadata": {},
   "outputs": [
    {
     "data": {
      "text/html": [
       "<div>\n",
       "<style>\n",
       "    .dataframe thead tr:only-child th {\n",
       "        text-align: right;\n",
       "    }\n",
       "\n",
       "    .dataframe thead th {\n",
       "        text-align: left;\n",
       "    }\n",
       "\n",
       "    .dataframe tbody tr th {\n",
       "        vertical-align: top;\n",
       "    }\n",
       "</style>\n",
       "<table border=\"1\" class=\"dataframe\">\n",
       "  <thead>\n",
       "    <tr style=\"text-align: right;\">\n",
       "      <th></th>\n",
       "      <th>name</th>\n",
       "      <th>num_mentions</th>\n",
       "      <th>salience</th>\n",
       "      <th>type</th>\n",
       "      <th>wiki_url</th>\n",
       "    </tr>\n",
       "  </thead>\n",
       "  <tbody>\n",
       "    <tr>\n",
       "      <th>0</th>\n",
       "      <td>PageRank</td>\n",
       "      <td>5</td>\n",
       "      <td>0.741658</td>\n",
       "      <td>OTHER</td>\n",
       "      <td>https://en.wikipedia.org/wiki/PageRank</td>\n",
       "    </tr>\n",
       "    <tr>\n",
       "      <th>1</th>\n",
       "      <td>one</td>\n",
       "      <td>5</td>\n",
       "      <td>0.068657</td>\n",
       "      <td>PERSON</td>\n",
       "      <td></td>\n",
       "    </tr>\n",
       "    <tr>\n",
       "      <th>2</th>\n",
       "      <td>innovations</td>\n",
       "      <td>5</td>\n",
       "      <td>0.065850</td>\n",
       "      <td>OTHER</td>\n",
       "      <td></td>\n",
       "    </tr>\n",
       "    <tr>\n",
       "      <th>3</th>\n",
       "      <td>search engine</td>\n",
       "      <td>5</td>\n",
       "      <td>0.030765</td>\n",
       "      <td>CONSUMER_GOOD</td>\n",
       "      <td></td>\n",
       "    </tr>\n",
       "    <tr>\n",
       "      <th>4</th>\n",
       "      <td>The Anatomy of</td>\n",
       "      <td>5</td>\n",
       "      <td>0.022925</td>\n",
       "      <td>WORK_OF_ART</td>\n",
       "      <td></td>\n",
       "    </tr>\n",
       "    <tr>\n",
       "      <th>5</th>\n",
       "      <td>Google</td>\n",
       "      <td>5</td>\n",
       "      <td>0.016214</td>\n",
       "      <td>OTHER</td>\n",
       "      <td>https://en.wikipedia.org/wiki/Google_Search</td>\n",
       "    </tr>\n",
       "    <tr>\n",
       "      <th>6</th>\n",
       "      <td>Web Search Engine</td>\n",
       "      <td>5</td>\n",
       "      <td>0.010481</td>\n",
       "      <td>CONSUMER_GOOD</td>\n",
       "      <td></td>\n",
       "    </tr>\n",
       "    <tr>\n",
       "      <th>7</th>\n",
       "      <td>web searching</td>\n",
       "      <td>5</td>\n",
       "      <td>0.010321</td>\n",
       "      <td>OTHER</td>\n",
       "      <td></td>\n",
       "    </tr>\n",
       "    <tr>\n",
       "      <th>8</th>\n",
       "      <td>papers</td>\n",
       "      <td>5</td>\n",
       "      <td>0.007097</td>\n",
       "      <td>WORK_OF_ART</td>\n",
       "      <td></td>\n",
       "    </tr>\n",
       "    <tr>\n",
       "      <th>9</th>\n",
       "      <td>Larry Page</td>\n",
       "      <td>5</td>\n",
       "      <td>0.006221</td>\n",
       "      <td>PERSON</td>\n",
       "      <td>https://en.wikipedia.org/wiki/Larry_Page</td>\n",
       "    </tr>\n",
       "    <tr>\n",
       "      <th>10</th>\n",
       "      <td>description</td>\n",
       "      <td>5</td>\n",
       "      <td>0.006159</td>\n",
       "      <td>OTHER</td>\n",
       "      <td></td>\n",
       "    </tr>\n",
       "    <tr>\n",
       "      <th>11</th>\n",
       "      <td>Sergey Brin</td>\n",
       "      <td>5</td>\n",
       "      <td>0.005467</td>\n",
       "      <td>PERSON</td>\n",
       "      <td>https://en.wikipedia.org/wiki/Sergey_Brin</td>\n",
       "    </tr>\n",
       "    <tr>\n",
       "      <th>12</th>\n",
       "      <td>variety</td>\n",
       "      <td>5</td>\n",
       "      <td>0.002732</td>\n",
       "      <td>OTHER</td>\n",
       "      <td></td>\n",
       "    </tr>\n",
       "    <tr>\n",
       "      <th>13</th>\n",
       "      <td>applications</td>\n",
       "      <td>5</td>\n",
       "      <td>0.002732</td>\n",
       "      <td>OTHER</td>\n",
       "      <td></td>\n",
       "    </tr>\n",
       "    <tr>\n",
       "      <th>14</th>\n",
       "      <td>episode</td>\n",
       "      <td>5</td>\n",
       "      <td>0.002722</td>\n",
       "      <td>WORK_OF_ART</td>\n",
       "      <td></td>\n",
       "    </tr>\n",
       "  </tbody>\n",
       "</table>\n",
       "</div>"
      ],
      "text/plain": [
       "                 name  num_mentions  salience           type  \\\n",
       "0            PageRank             5  0.741658          OTHER   \n",
       "1                 one             5  0.068657         PERSON   \n",
       "2         innovations             5  0.065850          OTHER   \n",
       "3       search engine             5  0.030765  CONSUMER_GOOD   \n",
       "4      The Anatomy of             5  0.022925    WORK_OF_ART   \n",
       "5              Google             5  0.016214          OTHER   \n",
       "6   Web Search Engine             5  0.010481  CONSUMER_GOOD   \n",
       "7       web searching             5  0.010321          OTHER   \n",
       "8              papers             5  0.007097    WORK_OF_ART   \n",
       "9          Larry Page             5  0.006221         PERSON   \n",
       "10        description             5  0.006159          OTHER   \n",
       "11        Sergey Brin             5  0.005467         PERSON   \n",
       "12            variety             5  0.002732          OTHER   \n",
       "13       applications             5  0.002732          OTHER   \n",
       "14            episode             5  0.002722    WORK_OF_ART   \n",
       "\n",
       "                                       wiki_url  \n",
       "0        https://en.wikipedia.org/wiki/PageRank  \n",
       "1                                                \n",
       "2                                                \n",
       "3                                                \n",
       "4                                                \n",
       "5   https://en.wikipedia.org/wiki/Google_Search  \n",
       "6                                                \n",
       "7                                                \n",
       "8                                                \n",
       "9      https://en.wikipedia.org/wiki/Larry_Page  \n",
       "10                                               \n",
       "11    https://en.wikipedia.org/wiki/Sergey_Brin  \n",
       "12                                               \n",
       "13                                               \n",
       "14                                               "
      ]
     },
     "execution_count": 137,
     "metadata": {},
     "output_type": "execute_result"
    }
   ],
   "source": [
    "pd.DataFrame(extract_entities_as_rows(results[key])).sort_values('salience', ascending=False)"
   ]
  },
  {
   "cell_type": "code",
   "execution_count": 138,
   "metadata": {},
   "outputs": [],
   "source": [
    "rows = []\n",
    "for key in results.keys():\n",
    "    r = results[key]\n",
    "    rows.extend(extract_entities_as_rows(r))"
   ]
  },
  {
   "cell_type": "code",
   "execution_count": 139,
   "metadata": {},
   "outputs": [],
   "source": [
    "df = pd.DataFrame(rows)"
   ]
  },
  {
   "cell_type": "code",
   "execution_count": 140,
   "metadata": {
    "collapsed": true
   },
   "outputs": [],
   "source": [
    "df.sort_values('salience', ascending=False, inplace=True)"
   ]
  },
  {
   "cell_type": "markdown",
   "metadata": {},
   "source": [
    "### The types of entities that are identified"
   ]
  },
  {
   "cell_type": "code",
   "execution_count": 152,
   "metadata": {},
   "outputs": [
    {
     "data": {
      "image/png": "[encoded data removed]",
      "text/plain": [
       "<matplotlib.figure.Figure at 0x11572e0f0>"
      ]
     },
     "metadata": {},
     "output_type": "display_data"
    }
   ],
   "source": [
    "df.groupby(['type'])['name'].count().sort_values().plot(kind='barh')\n",
    "plt.show()"
   ]
  },
  {
   "cell_type": "markdown",
   "metadata": {},
   "source": [
    "### Evaluating quality\n",
    "Below are the top and bottom 10 matches ranked by salience.  Ideally, the salience score is highly correlated with my notion of relevance.  If so, I should be able to identify a threshold above which I trust this service, and a threshold below which I discard results.  I'll leave you to judge for yourself based on the edge cases below."
   ]
  },
  {
   "cell_type": "code",
   "execution_count": 155,
   "metadata": {},
   "outputs": [
    {
     "data": {
      "text/html": [
       "<div>\n",
       "<style>\n",
       "    .dataframe thead tr:only-child th {\n",
       "        text-align: right;\n",
       "    }\n",
       "\n",
       "    .dataframe thead th {\n",
       "        text-align: left;\n",
       "    }\n",
       "\n",
       "    .dataframe tbody tr th {\n",
       "        vertical-align: top;\n",
       "    }\n",
       "</style>\n",
       "<table border=\"1\" class=\"dataframe\">\n",
       "  <thead>\n",
       "    <tr style=\"text-align: right;\">\n",
       "      <th></th>\n",
       "      <th>name</th>\n",
       "      <th>num_mentions</th>\n",
       "      <th>salience</th>\n",
       "      <th>type</th>\n",
       "      <th>wiki_url</th>\n",
       "    </tr>\n",
       "  </thead>\n",
       "  <tbody>\n",
       "    <tr>\n",
       "      <th>3886</th>\n",
       "      <td>inverse document frequency</td>\n",
       "      <td>5</td>\n",
       "      <td>0.844926</td>\n",
       "      <td>OTHER</td>\n",
       "      <td></td>\n",
       "    </tr>\n",
       "    <tr>\n",
       "      <th>81</th>\n",
       "      <td>ensemble learning algorithm</td>\n",
       "      <td>5</td>\n",
       "      <td>0.826697</td>\n",
       "      <td>OTHER</td>\n",
       "      <td></td>\n",
       "    </tr>\n",
       "    <tr>\n",
       "      <th>468</th>\n",
       "      <td>discussion</td>\n",
       "      <td>5</td>\n",
       "      <td>0.795514</td>\n",
       "      <td>WORK_OF_ART</td>\n",
       "      <td></td>\n",
       "    </tr>\n",
       "    <tr>\n",
       "      <th>1576</th>\n",
       "      <td>central limit theorem</td>\n",
       "      <td>5</td>\n",
       "      <td>0.781171</td>\n",
       "      <td>OTHER</td>\n",
       "      <td></td>\n",
       "    </tr>\n",
       "    <tr>\n",
       "      <th>1138</th>\n",
       "      <td>model diagnostic</td>\n",
       "      <td>5</td>\n",
       "      <td>0.745560</td>\n",
       "      <td>OTHER</td>\n",
       "      <td></td>\n",
       "    </tr>\n",
       "    <tr>\n",
       "      <th>0</th>\n",
       "      <td>PageRank</td>\n",
       "      <td>5</td>\n",
       "      <td>0.741658</td>\n",
       "      <td>OTHER</td>\n",
       "      <td>https://en.wikipedia.org/wiki/PageRank</td>\n",
       "    </tr>\n",
       "    <tr>\n",
       "      <th>474</th>\n",
       "      <td>Peter Backus</td>\n",
       "      <td>5</td>\n",
       "      <td>0.736100</td>\n",
       "      <td>PERSON</td>\n",
       "      <td></td>\n",
       "    </tr>\n",
       "    <tr>\n",
       "      <th>928</th>\n",
       "      <td>k-means clustering algorithm</td>\n",
       "      <td>5</td>\n",
       "      <td>0.735917</td>\n",
       "      <td>OTHER</td>\n",
       "      <td></td>\n",
       "    </tr>\n",
       "    <tr>\n",
       "      <th>1275</th>\n",
       "      <td>Deepjazz</td>\n",
       "      <td>5</td>\n",
       "      <td>0.699512</td>\n",
       "      <td>OTHER</td>\n",
       "      <td></td>\n",
       "    </tr>\n",
       "    <tr>\n",
       "      <th>1319</th>\n",
       "      <td>episode</td>\n",
       "      <td>5</td>\n",
       "      <td>0.699019</td>\n",
       "      <td>WORK_OF_ART</td>\n",
       "      <td></td>\n",
       "    </tr>\n",
       "  </tbody>\n",
       "</table>\n",
       "</div>"
      ],
      "text/plain": [
       "                              name  num_mentions  salience         type  \\\n",
       "3886    inverse document frequency             5  0.844926        OTHER   \n",
       "81     ensemble learning algorithm             5  0.826697        OTHER   \n",
       "468                     discussion             5  0.795514  WORK_OF_ART   \n",
       "1576         central limit theorem             5  0.781171        OTHER   \n",
       "1138              model diagnostic             5  0.745560        OTHER   \n",
       "0                         PageRank             5  0.741658        OTHER   \n",
       "474                   Peter Backus             5  0.736100       PERSON   \n",
       "928   k-means clustering algorithm             5  0.735917        OTHER   \n",
       "1275                      Deepjazz             5  0.699512        OTHER   \n",
       "1319                       episode             5  0.699019  WORK_OF_ART   \n",
       "\n",
       "                                    wiki_url  \n",
       "3886                                          \n",
       "81                                            \n",
       "468                                           \n",
       "1576                                          \n",
       "1138                                          \n",
       "0     https://en.wikipedia.org/wiki/PageRank  \n",
       "474                                           \n",
       "928                                           \n",
       "1275                                          \n",
       "1319                                          "
      ]
     },
     "execution_count": 155,
     "metadata": {},
     "output_type": "execute_result"
    }
   ],
   "source": [
    "df.head(10)"
   ]
  },
  {
   "cell_type": "code",
   "execution_count": 156,
   "metadata": {},
   "outputs": [
    {
     "data": {
      "text/html": [
       "<div>\n",
       "<style>\n",
       "    .dataframe thead tr:only-child th {\n",
       "        text-align: right;\n",
       "    }\n",
       "\n",
       "    .dataframe thead th {\n",
       "        text-align: left;\n",
       "    }\n",
       "\n",
       "    .dataframe tbody tr th {\n",
       "        vertical-align: top;\n",
       "    }\n",
       "</style>\n",
       "<table border=\"1\" class=\"dataframe\">\n",
       "  <thead>\n",
       "    <tr style=\"text-align: right;\">\n",
       "      <th></th>\n",
       "      <th>name</th>\n",
       "      <th>num_mentions</th>\n",
       "      <th>salience</th>\n",
       "      <th>type</th>\n",
       "      <th>wiki_url</th>\n",
       "    </tr>\n",
       "  </thead>\n",
       "  <tbody>\n",
       "    <tr>\n",
       "      <th>3960</th>\n",
       "      <td>twitter</td>\n",
       "      <td>5</td>\n",
       "      <td>0.000712</td>\n",
       "      <td>OTHER</td>\n",
       "      <td>https://en.wikipedia.org/wiki/Twitter</td>\n",
       "    </tr>\n",
       "    <tr>\n",
       "      <th>3961</th>\n",
       "      <td>@tomlevenson</td>\n",
       "      <td>5</td>\n",
       "      <td>0.000712</td>\n",
       "      <td>PERSON</td>\n",
       "      <td></td>\n",
       "    </tr>\n",
       "    <tr>\n",
       "      <th>3962</th>\n",
       "      <td>Penguin Random House</td>\n",
       "      <td>5</td>\n",
       "      <td>0.000711</td>\n",
       "      <td>ORGANIZATION</td>\n",
       "      <td>https://en.wikipedia.org/wiki/Penguin_Random_H...</td>\n",
       "    </tr>\n",
       "    <tr>\n",
       "      <th>3963</th>\n",
       "      <td>Greatest Scientist</td>\n",
       "      <td>5</td>\n",
       "      <td>0.000569</td>\n",
       "      <td>PERSON</td>\n",
       "      <td></td>\n",
       "    </tr>\n",
       "    <tr>\n",
       "      <th>3964</th>\n",
       "      <td>Newton</td>\n",
       "      <td>5</td>\n",
       "      <td>0.000519</td>\n",
       "      <td>LOCATION</td>\n",
       "      <td></td>\n",
       "    </tr>\n",
       "    <tr>\n",
       "      <th>3965</th>\n",
       "      <td>Berlin</td>\n",
       "      <td>5</td>\n",
       "      <td>0.000456</td>\n",
       "      <td>LOCATION</td>\n",
       "      <td></td>\n",
       "    </tr>\n",
       "    <tr>\n",
       "      <th>3966</th>\n",
       "      <td>Counterfeiter: The Unknown Detective Career</td>\n",
       "      <td>5</td>\n",
       "      <td>0.000456</td>\n",
       "      <td>PERSON</td>\n",
       "      <td></td>\n",
       "    </tr>\n",
       "    <tr>\n",
       "      <th>3967</th>\n",
       "      <td>TM</td>\n",
       "      <td>5</td>\n",
       "      <td>0.000456</td>\n",
       "      <td>ORGANIZATION</td>\n",
       "      <td></td>\n",
       "    </tr>\n",
       "    <tr>\n",
       "      <th>3968</th>\n",
       "      <td>Worldâ</td>\n",
       "      <td>5</td>\n",
       "      <td>0.000456</td>\n",
       "      <td>ORGANIZATION</td>\n",
       "      <td></td>\n",
       "    </tr>\n",
       "    <tr>\n",
       "      <th>3969</th>\n",
       "      <td>Nova</td>\n",
       "      <td>5</td>\n",
       "      <td>0.000455</td>\n",
       "      <td>ORGANIZATION</td>\n",
       "      <td></td>\n",
       "    </tr>\n",
       "  </tbody>\n",
       "</table>\n",
       "</div>"
      ],
      "text/plain": [
       "                                             name  num_mentions  salience  \\\n",
       "3960                                      twitter             5  0.000712   \n",
       "3961                                 @tomlevenson             5  0.000712   \n",
       "3962                         Penguin Random House             5  0.000711   \n",
       "3963                           Greatest Scientist             5  0.000569   \n",
       "3964                                       Newton             5  0.000519   \n",
       "3965                                       Berlin             5  0.000456   \n",
       "3966  Counterfeiter: The Unknown Detective Career             5  0.000456   \n",
       "3967                                           TM             5  0.000456   \n",
       "3968                                       Worldâ             5  0.000456   \n",
       "3969                                         Nova             5  0.000455   \n",
       "\n",
       "              type                                           wiki_url  \n",
       "3960         OTHER              https://en.wikipedia.org/wiki/Twitter  \n",
       "3961        PERSON                                                     \n",
       "3962  ORGANIZATION  https://en.wikipedia.org/wiki/Penguin_Random_H...  \n",
       "3963        PERSON                                                     \n",
       "3964      LOCATION                                                     \n",
       "3965      LOCATION                                                     \n",
       "3966        PERSON                                                     \n",
       "3967  ORGANIZATION                                                     \n",
       "3968  ORGANIZATION                                                     \n",
       "3969  ORGANIZATION                                                     "
      ]
     },
     "execution_count": 156,
     "metadata": {},
     "output_type": "execute_result"
    }
   ],
   "source": [
    "df.tail(10)"
   ]
  },
  {
   "cell_type": "code",
   "execution_count": null,
   "metadata": {
    "collapsed": true
   },
   "outputs": [],
   "source": []
  }
 ],
 "metadata": {
  "kernelspec": {
   "display_name": "Python 3",
   "language": "python",
   "name": "python3"
  },
  "language_info": {
   "codemirror_mode": {
    "name": "ipython",
    "version": 3
   },
   "file_extension": ".py",
   "mimetype": "text/x-python",
   "name": "python",
   "nbconvert_exporter": "python",
   "pygments_lexer": "ipython3",
   "version": "3.5.2"
  }
 },
 "nbformat": 4,
 "nbformat_minor": 2
}
