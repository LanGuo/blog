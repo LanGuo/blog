{
 "cells": [
  {
   "cell_type": "code",
   "execution_count": 48,
   "metadata": {
    "collapsed": true
   },
   "outputs": [],
   "source": [
    "%matplotlib inline\n",
    "import matplotlib.pyplot as plt\n",
    "import numpy as np\n",
    "import pandas as pd\n",
    "import math\n",
    "import requests\n",
    "import StringIO"
   ]
  },
  {
   "cell_type": "markdown",
   "metadata": {},
   "source": [
    "## Entropy\n",
    "\n",
    "Classically, entropy is a measure of disorder in a system.  From a statistical perspective, it is more useful to say it's a measure of the unpredictability of the system.  In this episode we discuss how information reduces the entropy in deciding whether or not Yoshi the parrot will like a new chew toy.  A few other everyday examples help us examine why entropy is a nice metric for constructing a decision tree."
   ]
  },
  {
   "cell_type": "markdown",
   "metadata": {},
   "source": [
    "### Definition"
   ]
  },
  {
   "cell_type": "markdown",
   "metadata": {},
   "source": [
    "Formally, the entropy $H$ of a system $X$ is given by summing over every value/state of the system, the likelihood of observing a given value $x_i$ times the log of that likelihood.\n",
    "\n",
    "$H(X) = - \\sum\\limits_{i=1}^n P(x_i) \\cdot \\text{log}_2 P(x_i)$"
   ]
  },
  {
   "cell_type": "markdown",
   "metadata": {},
   "source": [
    "### Entropy in a fair coin toss"
   ]
  },
  {
   "cell_type": "markdown",
   "metadata": {},
   "source": [
    "If we consider the example of a coin toss, the we have\n",
    "\n",
    "$X = \\{H, T\\}$\n",
    "\n",
    "$Pr(X=H) = 0.5$\n",
    "$Pr(X=T) = 0.5$\n",
    "\n",
    "Thus...\n",
    "\n",
    "$H(x) = -\\Big( P(X=H) \\cdot \\text{log}_2 P(X=H) \\Big) + -\\Big( P(X=T) \\cdot \\text{log}_2 P(X=T) \\Big) = -\\Big( 0.5 \\cdot -1.0 \\Big) + -\\Big(0.5 \\cdot -1.0 \\Big) = 1$"
   ]
  },
  {
   "cell_type": "markdown",
   "metadata": {},
   "source": [
    "### Entropy in an unfair coin toss"
   ]
  },
  {
   "cell_type": "markdown",
   "metadata": {},
   "source": [
    "If you are dealing with an outcome that is binary, but biased (i.e. not 50/50), you'll end up with the following values of Entropy $H$ given the weighting of the coin."
   ]
  },
  {
   "cell_type": "code",
   "execution_count": 41,
   "metadata": {
    "collapsed": false
   },
   "outputs": [
    {
     "data": {
      "image/png": "[encoded data removed]",
      "text/plain": [
       "<matplotlib.figure.Figure at 0x105e0fb10>"
      ]
     },
     "metadata": {},
     "output_type": "display_data"
    }
   ],
   "source": [
    "prob_h = 1.0 * np.arange(200) / 200\n",
    "h_x = - prob_h * map(lambda x: 0 if x==0 else math.log(x, 2), prob_h) + -1 *(1-prob_h) * map(lambda x: math.log(x, 2), (1-prob_h))\n",
    "plt.plot(prob_h, h_x)\n",
    "plt.xlabel(\"Probability of Heads\")\n",
    "plt.ylabel(\"Entropy\")\n",
    "plt.show()"
   ]
  },
  {
   "cell_type": "markdown",
   "metadata": {},
   "source": [
    "It's interesting to consider, instead, a six sided die.\n",
    "\n",
    "$X = \\{1, 2, 3, 4, 5, 6\\}$\n",
    "\n",
    "$Pr(x_i) = \\dfrac{1}{6}$\n",
    "\n",
    "Let $b = 6$\n",
    "\n",
    "$H(x) = - \\sum\\limits_{i=1}^6 \\dfrac{1}{6} \\cdot \\text{log}_b \\dfrac{1}{6} \\approx 2.58$\n",
    "\n",
    "In this way, we can see that there is more entropy in a fair die because we require more bits of information to describe the outcome."
   ]
  },
  {
   "cell_type": "markdown",
   "metadata": {},
   "source": [
    "### Use of Entropy in Decision Tree Learning"
   ]
  },
  {
   "cell_type": "markdown",
   "metadata": {},
   "source": [
    "A decision tree is a series of questions that lead us to a classification result.  If we choose decision trees as our method, we want to produce a model that has a controlled number of nodes in the tree to avoid overfitting.  We can accomplish this by splitting our dataset into smaller sets in such a way that gives us the best information gain.  In other words, if asking a paricular question of the data makes us significantly better able to predict the resulting classification, then the split is useful to us because it makes the outcome more predictable by reducing entropy."
   ]
  },
  {
   "cell_type": "markdown",
   "metadata": {},
   "source": [
    "Let's take a look at how this applies to the classic [Auto MPG Data Set](https://archive.ics.uci.edu/ml/datasets/Auto+MPG).  We'll do this by hand since we're interested more in entropy today than in the decision tree algorithm itself."
   ]
  },
  {
   "cell_type": "code",
   "execution_count": 43,
   "metadata": {
    "collapsed": true
   },
   "outputs": [],
   "source": [
    "r = requests.get('https://archive.ics.uci.edu/ml/machine-learning-databases/auto-mpg/auto-mpg.data')"
   ]
  },
  {
   "cell_type": "code",
   "execution_count": 62,
   "metadata": {
    "collapsed": false
   },
   "outputs": [],
   "source": [
    "handle = StringIO.StringIO(r.content)\n",
    "names = ['mpg', 'cylinders', 'displacement', 'horsepower', 'weight', 'acceleration', 'year', 'origin', 'car name']\n",
    "df = pd.read_fwf(handle, colspecs='infer', names=names)"
   ]
  },
  {
   "cell_type": "code",
   "execution_count": 63,
   "metadata": {
    "collapsed": false
   },
   "outputs": [
    {
     "data": {
      "text/html": [
       "<div>\n",
       "<table border=\"1\" class=\"dataframe\">\n",
       "  <thead>\n",
       "    <tr style=\"text-align: right;\">\n",
       "      <th></th>\n",
       "      <th>mpg</th>\n",
       "      <th>cylinders</th>\n",
       "      <th>displacement</th>\n",
       "      <th>horsepower</th>\n",
       "      <th>weight</th>\n",
       "      <th>acceleration</th>\n",
       "      <th>year</th>\n",
       "      <th>origin</th>\n",
       "      <th>car name</th>\n",
       "    </tr>\n",
       "  </thead>\n",
       "  <tbody>\n",
       "    <tr>\n",
       "      <th>0</th>\n",
       "      <td>18.0</td>\n",
       "      <td>8</td>\n",
       "      <td>307.0</td>\n",
       "      <td>130.0</td>\n",
       "      <td>3504.0</td>\n",
       "      <td>12.0</td>\n",
       "      <td>70</td>\n",
       "      <td>1</td>\n",
       "      <td>\"chevrolet chevelle malibu\"</td>\n",
       "    </tr>\n",
       "    <tr>\n",
       "      <th>1</th>\n",
       "      <td>15.0</td>\n",
       "      <td>8</td>\n",
       "      <td>350.0</td>\n",
       "      <td>165.0</td>\n",
       "      <td>3693.0</td>\n",
       "      <td>11.5</td>\n",
       "      <td>70</td>\n",
       "      <td>1</td>\n",
       "      <td>\"buick skylark 320\"</td>\n",
       "    </tr>\n",
       "    <tr>\n",
       "      <th>2</th>\n",
       "      <td>18.0</td>\n",
       "      <td>8</td>\n",
       "      <td>318.0</td>\n",
       "      <td>150.0</td>\n",
       "      <td>3436.0</td>\n",
       "      <td>11.0</td>\n",
       "      <td>70</td>\n",
       "      <td>1</td>\n",
       "      <td>\"plymouth satellite\"</td>\n",
       "    </tr>\n",
       "    <tr>\n",
       "      <th>3</th>\n",
       "      <td>16.0</td>\n",
       "      <td>8</td>\n",
       "      <td>304.0</td>\n",
       "      <td>150.0</td>\n",
       "      <td>3433.0</td>\n",
       "      <td>12.0</td>\n",
       "      <td>70</td>\n",
       "      <td>1</td>\n",
       "      <td>\"amc rebel sst\"</td>\n",
       "    </tr>\n",
       "    <tr>\n",
       "      <th>4</th>\n",
       "      <td>17.0</td>\n",
       "      <td>8</td>\n",
       "      <td>302.0</td>\n",
       "      <td>140.0</td>\n",
       "      <td>3449.0</td>\n",
       "      <td>10.5</td>\n",
       "      <td>70</td>\n",
       "      <td>1</td>\n",
       "      <td>\"ford torino\"</td>\n",
       "    </tr>\n",
       "  </tbody>\n",
       "</table>\n",
       "</div>"
      ],
      "text/plain": [
       "    mpg  cylinders  displacement horsepower  weight  acceleration  year  \\\n",
       "0  18.0          8         307.0      130.0  3504.0          12.0    70   \n",
       "1  15.0          8         350.0      165.0  3693.0          11.5    70   \n",
       "2  18.0          8         318.0      150.0  3436.0          11.0    70   \n",
       "3  16.0          8         304.0      150.0  3433.0          12.0    70   \n",
       "4  17.0          8         302.0      140.0  3449.0          10.5    70   \n",
       "\n",
       "   origin                     car name  \n",
       "0       1  \"chevrolet chevelle malibu\"  \n",
       "1       1          \"buick skylark 320\"  \n",
       "2       1         \"plymouth satellite\"  \n",
       "3       1              \"amc rebel sst\"  \n",
       "4       1                \"ford torino\"  "
      ]
     },
     "execution_count": 63,
     "metadata": {},
     "output_type": "execute_result"
    }
   ],
   "source": [
    "df.head()"
   ]
  },
  {
   "cell_type": "markdown",
   "metadata": {},
   "source": [
    "For the purposes of demonstration, let's introduce a class label called `fuel_economy` which considers anything about 25 miles per gallon good, and everything else bad."
   ]
  },
  {
   "cell_type": "code",
   "execution_count": 67,
   "metadata": {
    "collapsed": false
   },
   "outputs": [],
   "source": [
    "df['fuel_economy'] = df['mpg'].apply(lambda x: 'good' if x > 25 else 'bad')"
   ]
  },
  {
   "cell_type": "markdown",
   "metadata": {},
   "source": [
    "Let's first calculate the entropy of this metric before considering any of the features."
   ]
  },
  {
   "cell_type": "code",
   "execution_count": 90,
   "metadata": {
    "collapsed": false
   },
   "outputs": [
    {
     "name": "stdout",
     "output_type": "stream",
     "text": [
      "0.671770204228\n"
     ]
    }
   ],
   "source": [
    "agg = df.groupby(['fuel_economy']).agg({'mpg': ['count']})\n",
    "norm = agg / agg.sum()\n",
    "entropy_initial = norm['mpg']['count'].apply(lambda x: -x * math.log(x)).sum()\n",
    "print(entropy_initial)"
   ]
  },
  {
   "cell_type": "markdown",
   "metadata": {},
   "source": [
    "We can calulate the initial entropy to be 0.67177.\n",
    "\n",
    "Now, let's consider the entropy of the dataset if we split it based on the number of cylinders in the car (which can be 3, 4, 5, 6, or 8)."
   ]
  },
  {
   "cell_type": "code",
   "execution_count": 210,
   "metadata": {
    "collapsed": false
   },
   "outputs": [
    {
     "data": {
      "text/html": [
       "<div>\n",
       "<table border=\"1\" class=\"dataframe\">\n",
       "  <thead>\n",
       "    <tr style=\"text-align: right;\">\n",
       "      <th></th>\n",
       "      <th>entropy</th>\n",
       "      <th>count</th>\n",
       "      <th>freq</th>\n",
       "      <th>weighted_entropy</th>\n",
       "    </tr>\n",
       "    <tr>\n",
       "      <th>cylinders</th>\n",
       "      <th></th>\n",
       "      <th></th>\n",
       "      <th></th>\n",
       "      <th></th>\n",
       "    </tr>\n",
       "  </thead>\n",
       "  <tbody>\n",
       "    <tr>\n",
       "      <th>3</th>\n",
       "      <td>-0.000000</td>\n",
       "      <td>4</td>\n",
       "      <td>0.010050</td>\n",
       "      <td>-0.000000</td>\n",
       "    </tr>\n",
       "    <tr>\n",
       "      <th>4</th>\n",
       "      <td>0.840901</td>\n",
       "      <td>204</td>\n",
       "      <td>0.512563</td>\n",
       "      <td>0.431015</td>\n",
       "    </tr>\n",
       "    <tr>\n",
       "      <th>5</th>\n",
       "      <td>0.918296</td>\n",
       "      <td>3</td>\n",
       "      <td>0.007538</td>\n",
       "      <td>0.006922</td>\n",
       "    </tr>\n",
       "    <tr>\n",
       "      <th>6</th>\n",
       "      <td>0.371232</td>\n",
       "      <td>84</td>\n",
       "      <td>0.211055</td>\n",
       "      <td>0.078351</td>\n",
       "    </tr>\n",
       "    <tr>\n",
       "      <th>8</th>\n",
       "      <td>0.078856</td>\n",
       "      <td>103</td>\n",
       "      <td>0.258794</td>\n",
       "      <td>0.020407</td>\n",
       "    </tr>\n",
       "  </tbody>\n",
       "</table>\n",
       "</div>"
      ],
      "text/plain": [
       "            entropy  count      freq  weighted_entropy\n",
       "cylinders                                             \n",
       "3         -0.000000      4  0.010050         -0.000000\n",
       "4          0.840901    204  0.512563          0.431015\n",
       "5          0.918296      3  0.007538          0.006922\n",
       "6          0.371232     84  0.211055          0.078351\n",
       "8          0.078856    103  0.258794          0.020407"
      ]
     },
     "execution_count": 210,
     "metadata": {},
     "output_type": "execute_result"
    }
   ],
   "source": [
    "agg = df.groupby(['cylinders', 'fuel_economy']).agg({'mpg': ['count']})\n",
    "agg.reset_index(inplace=True)\n",
    "cylinders = []\n",
    "entropies = []\n",
    "for c in set(df.cylinders):\n",
    "    aggc = agg[agg.cylinders == c].copy()\n",
    "    aggc.reset_index(inplace=True)\n",
    "    aggc['p'] = 1.0 * aggc['mpg']['count'] / aggc['mpg']['count'].sum()\n",
    "    values = map(lambda x: -1 * (x * math.log(x, 2)), aggc.p)\n",
    "    entropy = reduce(lambda a, b: a + b, values)\n",
    "    cylinders.append(c)\n",
    "    entropies.append(entropy)\n",
    "\n",
    "result = pd.DataFrame({'cylinders': cylinders, 'entropy': entropies})\n",
    "result.sort_values(by='cylinders', inplace=True)\n",
    "result.set_index('cylinders', inplace=True)\n",
    "observations = pd.DataFrame(df.groupby(['cylinders'])['mpg'].count())\n",
    "observations.columns = ['count']\n",
    "df2 = pd.concat([result, observations], axis=1)\n",
    "df2['freq'] = 1.0 * df2['count'] / df2['count'].sum()\n",
    "df2['weighted_entropy'] = df2['freq'] * df2['entropy']\n",
    "df2"
   ]
  },
  {
   "cell_type": "markdown",
   "metadata": {},
   "source": [
    "The values above are the entropy of the resulting sub-sets when you split on Cylinders.  Notice that the entropy in 3 cylinder cars is zero.  This is because there are only four observations in the dataset with 3 cylinder engine, and they all have miles per gallon below 25.  If you know the cylinders to be 3, you have no uncertainty.\n",
    "\n",
    "You will notice that for each subgroup, the entropy given the cylinder count is less in every case than before we did the split.  This isn't to say that cylinders is the best feature to split on, just a demonstration of why Entropy is useful in creating a tree based model."
   ]
  }
 ],
 "metadata": {
  "kernelspec": {
   "display_name": "Python 2",
   "language": "python",
   "name": "python2"
  },
  "language_info": {
   "codemirror_mode": {
    "name": "ipython",
    "version": 2
   },
   "file_extension": ".py",
   "mimetype": "text/x-python",
   "name": "python",
   "nbconvert_exporter": "python",
   "pygments_lexer": "ipython2",
   "version": "2.7.12"
  }
 },
 "nbformat": 4,
 "nbformat_minor": 1
}
