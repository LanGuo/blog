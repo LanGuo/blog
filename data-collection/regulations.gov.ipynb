{
 "cells": [
  {
   "cell_type": "markdown",
   "metadata": {},
   "source": [
    "## The regulations.gov API\n",
    "\n",
    "<p>In an effort to take citizen's opinions and perspectives into account, the federal government has launched [regulations.gov](https://www.regulations.gov/).  This site allows visitors to review documents related to open propositions and comment online.  The site acts as a repository for those comments, and it provides an admirable API for accessing this data.  Below are some notes on how to interact with the API effectively in Python.</p>"
   ]
  },
  {
   "cell_type": "markdown",
   "metadata": {},
   "source": [
    "## Getting set up\n",
    "\n",
    "* Sign up for an API account at [http://regulationsgov.github.io/developers/key/](http://regulationsgov.github.io/developers/key/)\n",
    "\n",
    "* This blog post goes over the minimum set of parameters that I found useful when consuming this API  For a full list of options, visit [http://regulationsgov.github.io/developers/console/](http://regulationsgov.github.io/developers/console/) and click \"Expanded operations\".\n",
    "\n",
    "\n",
    "### Searching for documents\n",
    "\n",
    "The first endpoint of interest in [https://api.data.gov/regulations/v3/documents\n",
    "](https://api.data.gov/regulations/v3/documents\n",
    ").  This endpoint can be used to search for documents in the system using the parameters in the table below.\n",
    "\n",
    "Add any number of querystring parameters to refind the query to your needs:\n",
    "\n",
    "| Attribute     | Description\n",
    "| ------------- |:-----------------------------\n",
    "| api_key       | Get this from the first link \n",
    "| s             | Keywords \n",
    "| rpp           | Results per page, max=1000\n",
    "| po            | Page offset, starting at 0\n",
    "| crd           | Creation date, accepts date as MM/DD/YY or range as MM/DD/YY-MM/DD/YY\n",
    "| cat           | Document category, for our interests, we wanted \"AEP\" for Agriculture, Environment, and Public Lands\n",
    "| dct           | Document type, for our interest, we wanted \"PS\" for Public Submission.  We won't use this in the first call we make, but later on in this post we will."
   ]
  },
  {
   "cell_type": "code",
   "execution_count": 87,
   "metadata": {
    "collapsed": true
   },
   "outputs": [],
   "source": [
    "import requests\n",
    "import pandas as pd\n",
    "import json\n",
    "import sys\n",
    "import pickle\n",
    "from cStringIO import StringIO"
   ]
  },
  {
   "cell_type": "code",
   "execution_count": 2,
   "metadata": {
    "collapsed": true
   },
   "outputs": [],
   "source": [
    "import sys\n",
    "import time\n",
    "from pdfminer.pdfinterp import PDFResourceManager, PDFPageInterpreter\n",
    "from pdfminer.pdfpage import PDFPage\n",
    "from pdfminer.converter import XMLConverter, HTMLConverter, TextConverter\n",
    "from pdfminer.layout import LAParams\n",
    "from cStringIO import StringIO\n",
    "from docx import Document"
   ]
  },
  {
   "cell_type": "code",
   "execution_count": 3,
   "metadata": {
    "collapsed": true
   },
   "outputs": [],
   "source": [
    "keywords = 'water'\n",
    "results_per_page = 1000\n",
    "page_offset = 0\n",
    "creation_range = '01/01/16-11/01/16'\n",
    "category = 'AEP'"
   ]
  },
  {
   "cell_type": "code",
   "execution_count": 9,
   "metadata": {
    "collapsed": true
   },
   "outputs": [],
   "source": [
    "f = open('regulations.gov.config', 'r') # Make your own config file and put your key in it\n",
    "api_key = f.read()\n",
    "api_key = api_key.strip()\n",
    "f.close()"
   ]
  },
  {
   "cell_type": "code",
   "execution_count": 10,
   "metadata": {
    "collapsed": false
   },
   "outputs": [],
   "source": [
    "uri_template = 'https://api.data.gov/regulations/v3/documents?api_key={}&s={}&rpp={}&po={}&crd={}&cat={}'\n",
    "uri = uri_template.format(api_key, keywords, results_per_page, page_offset, creation_range, category)\n",
    "r = requests.get(uri)"
   ]
  },
  {
   "cell_type": "code",
   "execution_count": 11,
   "metadata": {
    "collapsed": false
   },
   "outputs": [
    {
     "name": "stdout",
     "output_type": "stream",
     "text": [
      "Found 685 results.\n"
     ]
    }
   ],
   "source": [
    "search_result = json.loads(r.content)\n",
    "print('Found ' + str(search_result['totalNumRecords']) + ' results.')"
   ]
  },
  {
   "cell_type": "markdown",
   "metadata": {},
   "source": [
    "Here's an example of the first result:"
   ]
  },
  {
   "cell_type": "code",
   "execution_count": 12,
   "metadata": {
    "collapsed": false
   },
   "outputs": [
    {
     "name": "stdout",
     "output_type": "stream",
     "text": [
      "{\n",
      "    \"agencyAcronym\": \"EPA\", \n",
      "    \"allowLateComment\": false, \n",
      "    \"attachmentCount\": 0, \n",
      "    \"commentDueDate\": \"2016-12-28T23:59:59-05:00\", \n",
      "    \"commentStartDate\": \"2016-09-29T00:00:00-04:00\", \n",
      "    \"docketId\": \"EPA-HQ-OW-2016-0405\", \n",
      "    \"docketTitle\": \"Federal Baseline Water Quality Standards for Indian Reservations\", \n",
      "    \"docketType\": \"Rulemaking\", \n",
      "    \"documentId\": \"EPA-HQ-OW-2016-0405-0001\", \n",
      "    \"documentStatus\": \"Posted\", \n",
      "    \"documentType\": \"Proposed Rule\", \n",
      "    \"frNumber\": \"2016-23432\", \n",
      "    \"numberOfCommentsReceived\": 0, \n",
      "    \"openForComment\": true, \n",
      "    \"postedDate\": \"2016-09-29T00:00:00-04:00\", \n",
      "    \"rin\": \"2060-AF62\", \n",
      "    \"summary\": \"Document Contents : ...OW-2016-0405; FRL-9953-19-OW] RIN 2040-AF62 Federal Baseline <endeca_term>Water</endeca_term> Quality Standards for Indian Reservations AGENCY: Environmental Protection Agency (EPA). ACTION: Advance...\", \n",
      "    \"title\": \"Federal Baseline Water Quality Standards: Indian Reservations\"\n",
      "}\n"
     ]
    }
   ],
   "source": [
    "doc = search_result['documents'][0]\n",
    "print(json.dumps(doc, indent=4, sort_keys=True))"
   ]
  },
  {
   "cell_type": "markdown",
   "metadata": {},
   "source": [
    "### Document lookup\n",
    "\n",
    "Once you've gotten a longer list, you are likely to want further details on one or more of the results.  The document lookup ID can hlep with that, requiring your api_key and a documentId which can be found in the results identified previously.\n",
    "\n",
    "https://api.data.gov/regulations/v3/document"
   ]
  },
  {
   "cell_type": "code",
   "execution_count": 13,
   "metadata": {
    "collapsed": false
   },
   "outputs": [
    {
     "name": "stdout",
     "output_type": "stream",
     "text": [
      "EPA-HQ-OW-2016-0405-0001\n"
     ]
    }
   ],
   "source": [
    "uri_template = 'https://api.data.gov/regulations/v3/document?api_key={}&documentId={}'\n",
    "documentId = doc['documentId']\n",
    "print(documentId)\n",
    "uri = uri_template.format(api_key, documentId)"
   ]
  },
  {
   "cell_type": "code",
   "execution_count": 14,
   "metadata": {
    "collapsed": true
   },
   "outputs": [],
   "source": [
    "r = requests.get(uri)"
   ]
  },
  {
   "cell_type": "code",
   "execution_count": 15,
   "metadata": {
    "collapsed": true
   },
   "outputs": [],
   "source": [
    "first_doc = json.loads(r.content)"
   ]
  },
  {
   "cell_type": "markdown",
   "metadata": {},
   "source": [
    "The document response has a lot more details, so rather than printing it out here, let's just see some of what's available."
   ]
  },
  {
   "cell_type": "code",
   "execution_count": 16,
   "metadata": {
    "collapsed": false
   },
   "outputs": [
    {
     "name": "stdout",
     "output_type": "stream",
     "text": [
      "[u'allowLateComment', u'docketTitle', u'pageCount', u'receivedDate', u'topics', u'rin', u'cfrPart', u'documentType', u'postedDate', u'numItemsRecieved', u'title', u'frCitation', u'docketType', u'documentId', u'startEndPage', u'abstract', u'status', u'federalRegisterNumber', u'agencyAcronym', u'docSubType', u'docketId', u'openForComment', u'agencyName', u'attachmentCount', u'commentDueDate', u'commentStartDate', u'fileFormats']\n"
     ]
    }
   ],
   "source": [
    "print(first_doc.keys())"
   ]
  },
  {
   "cell_type": "markdown",
   "metadata": {},
   "source": [
    "### Dockets\n",
    "\n",
    "Dockets are \"organizational folders\" on the regulations.gov site.  I believe it has wider uses than my needs.  I believe Dockets can be helpful to find collections of documents that are related in some way.  For our interest, we want to retrieve all the comments for a given documentId of interest.  The Dockets endpoint helps us get some high level metadata about comments."
   ]
  },
  {
   "cell_type": "code",
   "execution_count": 17,
   "metadata": {
    "collapsed": true
   },
   "outputs": [],
   "source": [
    "doc_type = 'PS' # Public Submission\n",
    "parentDocumentId = 'EPA–R08–OAR–2015–0463'\n",
    "uri_template = 'https://api.data.gov/regulations/v3/docket?api_key={}&rpp={}&po={}&dct={}&docketId={}'\n",
    "uri = uri_template.format(api_key, results_per_page, page_offset, doc_type, parentDocumentId)"
   ]
  },
  {
   "cell_type": "code",
   "execution_count": 18,
   "metadata": {
    "collapsed": true
   },
   "outputs": [],
   "source": [
    "r = requests.get(uri)"
   ]
  },
  {
   "cell_type": "code",
   "execution_count": 19,
   "metadata": {
    "collapsed": false
   },
   "outputs": [
    {
     "name": "stdout",
     "output_type": "stream",
     "text": [
      "{\n",
      "    \"agency\": \"Environmental Protection Agency\", \n",
      "    \"agencyAcronym\": \"EPA\", \n",
      "    \"docketId\": \"EPA-R08-OAR-2015-0463\", \n",
      "    \"generic\": {\n",
      "        \"label\": \"Location\", \n",
      "        \"value\": \"R08-OAR\"\n",
      "    }, \n",
      "    \"numberOfComments\": 151, \n",
      "    \"rin\": \"Not Assigned\", \n",
      "    \"title\": \"Approval and Promulgation of Air Quality Implementation Plans; Utah; Revisions to Regional Haze State Implementation Plan\", \n",
      "    \"type\": {\n",
      "        \"label\": \"Type\", \n",
      "        \"value\": \"Rulemaking\"\n",
      "    }\n",
      "}\n"
     ]
    }
   ],
   "source": [
    "docket_data = json.loads(r.content)\n",
    "print(json.dumps(docket_data, indent=4, sort_keys=True))"
   ]
  },
  {
   "cell_type": "markdown",
   "metadata": {},
   "source": [
    "Great, so for this particular proposal, we find 151 comments.  Let's retrieve them with the search API.\n",
    "\n",
    "To retrieve them, simply use the documentId you are interested as your search keyword, and ask for just public submissions (comments)."
   ]
  },
  {
   "cell_type": "code",
   "execution_count": 20,
   "metadata": {
    "collapsed": true
   },
   "outputs": [],
   "source": [
    "keywords = parentDocumentId\n",
    "results_per_page = 1000\n",
    "page_offset = 0\n",
    "doc_type = 'PS' # Public Submission"
   ]
  },
  {
   "cell_type": "code",
   "execution_count": 21,
   "metadata": {
    "collapsed": false
   },
   "outputs": [],
   "source": [
    "uri_template = 'https://api.data.gov/regulations/v3/documents?api_key={}&s={}&rpp={}&po={}&dct={}'\n",
    "uri = uri_template.format(api_key, keywords, results_per_page, page_offset, doc_type)\n",
    "r = requests.get(uri)"
   ]
  },
  {
   "cell_type": "code",
   "execution_count": 22,
   "metadata": {
    "collapsed": false
   },
   "outputs": [
    {
     "name": "stdout",
     "output_type": "stream",
     "text": [
      "Found 151 results.\n"
     ]
    }
   ],
   "source": [
    "search_result = json.loads(r.content)\n",
    "print('Found ' + str(search_result['totalNumRecords']) + ' results.')"
   ]
  },
  {
   "cell_type": "markdown",
   "metadata": {},
   "source": [
    "There's one last catch in us getting all the data we're interested in.  Some comments are totally in the response while some have attachments that may contain useful information for us.  Let's examine a few fields of the document below for which this is the case."
   ]
  },
  {
   "cell_type": "code",
   "execution_count": 23,
   "metadata": {
    "collapsed": false
   },
   "outputs": [
    {
     "name": "stdout",
     "output_type": "stream",
     "text": [
      "Attachment count: 2, Comment: See Attached\n"
     ]
    }
   ],
   "source": [
    "doc = search_result['documents'][0]\n",
    "print('Attachment count: ' + str(doc['attachmentCount']) + ', Comment: ' + doc['commentText'])"
   ]
  },
  {
   "cell_type": "markdown",
   "metadata": {},
   "source": [
    "Above we can see that there are two attachments to this document which are not a part of the API's response.  We can retrieve them in the manner shown below, which I believe is an undocumented feature of the API.  These attachments are (always?) PDF files or Microsoft Word files.  Let's first retrieve them, and then convert them to text.\n",
    "\n",
    "We'll need some helper functions to make that happen.  The first function below unpacks the \"Content-Disposition\" heading which should be sent back from the server describing the content.  We'll extract the filename and look at it's type so that we know if its a PDF or a Word doc."
   ]
  },
  {
   "cell_type": "code",
   "execution_count": 24,
   "metadata": {
    "collapsed": false
   },
   "outputs": [],
   "source": [
    "def get_file_type(content_disposition):\n",
    "    arr = content_disposition.split(';')\n",
    "    for elem in arr:\n",
    "        elem = elem.strip()\n",
    "        if elem.find('filename=')==0:\n",
    "            arr2 = elem.split('=')\n",
    "            fname = arr2[1].replace('\"', '').replace(\"'\", '')\n",
    "            i = fname.rfind('.')\n",
    "            return fname[i:].lower()\n",
    "    return 'unknown'"
   ]
  },
  {
   "cell_type": "markdown",
   "metadata": {},
   "source": [
    "The next two helper functions convert PDFs and Word docs into plain text for use in our analysis."
   ]
  },
  {
   "cell_type": "code",
   "execution_count": 25,
   "metadata": {
    "collapsed": false
   },
   "outputs": [],
   "source": [
    "def pdf_to_text(pdf_string):\n",
    "    f = StringIO(pdf_string)\n",
    "    rsrcmgr = PDFResourceManager()\n",
    "    retstr = StringIO()\n",
    "    codec = 'utf-8'\n",
    "    laparams = LAParams()\n",
    "    device = TextConverter(rsrcmgr, retstr, codec=codec, laparams=laparams)\n",
    "    interpreter = PDFPageInterpreter(rsrcmgr, device)\n",
    "    for page in PDFPage.get_pages(f):\n",
    "        interpreter.process_page(page)\n",
    "        data =  retstr.getvalue()\n",
    "    return data"
   ]
  },
  {
   "cell_type": "code",
   "execution_count": 26,
   "metadata": {
    "collapsed": true
   },
   "outputs": [],
   "source": [
    "def docx_to_text(docx_string):\n",
    "    f = StringIO(docx_string)\n",
    "    d = Document(f)\n",
    "    data = ''\n",
    "    for p in d.paragraphs:\n",
    "        data += p.text + ' '\n",
    "    return data"
   ]
  },
  {
   "cell_type": "markdown",
   "metadata": {},
   "source": [
    "Now that we have our helper functions in place, let's write one last function which gets all the attachments for any particular documentId of a comment and aggregates them all into one simple string."
   ]
  },
  {
   "cell_type": "code",
   "execution_count": 80,
   "metadata": {
    "collapsed": false
   },
   "outputs": [],
   "source": [
    "def get_attachment_comments(documentId, attachmentCount):\n",
    "    comment = ''\n",
    "    uri_template = 'https://www.regulations.gov/contentStreamer?documentId={}&attachmentNumber={}&disposition=attachment'\n",
    "    for attachment_num in range(1, attachmentCount + 1):\n",
    "        uri = uri_template.format(documentId, attachment_num)\n",
    "        r = requests.get(uri)\n",
    "        sc = r.status_code\n",
    "        if sc == 200:\n",
    "            content_disposition = r.headers['Content-Disposition']\n",
    "            file_type = get_file_type(content_disposition)\n",
    "            rcontent = r.content\n",
    "            try:\n",
    "                if type(rcontent) == 'str':\n",
    "                    rcontent = unicode(rcontent, 'utf-8')\n",
    "                if file_type == '.pdf':\n",
    "                    comment += pdf_to_text(rcontent) + ' '\n",
    "                elif file_type == '.docx':\n",
    "                    comment += docx_to_text(rcontent) + ' '\n",
    "                else:\n",
    "                    print(\"Can't handle this attachment: \" + content_disposition)\n",
    "            except UnicodeDecodeError:\n",
    "                print(\"Skipping \" + documentId + \" attachment #\" + str(attachment_num) + \" due to encoding issues\")\n",
    "        else:\n",
    "            print(\"Could not download \" + uri)\n",
    "    if type(comment) == unicode:\n",
    "        return comment\n",
    "    else:\n",
    "        return unicode(comment, 'utf-8')"
   ]
  },
  {
   "cell_type": "markdown",
   "metadata": {},
   "source": [
    "## Ready to pull data\n",
    "With a few helper funcitons in place, we're now ready to iterate over our search results and grab our corpus."
   ]
  },
  {
   "cell_type": "code",
   "execution_count": 81,
   "metadata": {
    "collapsed": false
   },
   "outputs": [
    {
     "name": "stdout",
     "output_type": "stream",
     "text": [
      "Going to retrieve values for EPA–R08–OAR–2015–0463\n"
     ]
    }
   ],
   "source": [
    "print('Going to retrieve values for ' + parentDocumentId)"
   ]
  },
  {
   "cell_type": "code",
   "execution_count": 29,
   "metadata": {
    "collapsed": true
   },
   "outputs": [],
   "source": [
    "corpus = {}"
   ]
  },
  {
   "cell_type": "code",
   "execution_count": 30,
   "metadata": {
    "collapsed": true
   },
   "outputs": [],
   "source": [
    "corpus[parentDocumentId] = {}\n",
    "keywords = parentDocumentId\n",
    "results_per_page = 1000\n",
    "page_offset = 0\n",
    "doc_type = 'PS' # Public Submission"
   ]
  },
  {
   "cell_type": "markdown",
   "metadata": {},
   "source": [
    "This next part will take some time."
   ]
  },
  {
   "cell_type": "code",
   "execution_count": 82,
   "metadata": {
    "collapsed": false
   },
   "outputs": [
    {
     "name": "stdout",
     "output_type": "stream",
     "text": [
      "https://api.data.gov/regulations/v3/documents?api_key=7Y0o4SFuUinwlekLUkvzMsnBFu9GBSGb4ofkhuzk&s=EPA–R08–OAR–2015–0463&rpp=1000&po=0&dct=PS\n",
      "Can't handle this attachment: attachment; filename=\"Ex_11_to_CO_comments_UDAQ_BART_Analysis.pptx\"\n",
      "Skipping EPA-R08-OAR-2015-0463-0167 attachment #31 due to encoding issues\n",
      "Can't handle this attachment: attachment; filename=\"Ex_2_to_TSD_of_Cons_Orgs_Comments_on_2016_EPA_Proposal_Utah_Haze.xlsx\"\n",
      "Can't handle this attachment: attachment; filename=\"Ex_5_to_TSD_of_Cons_Orgs_Comments_on_2016_EPA_Proposal_Utah_Haze.xlsx\"\n",
      "Can't handle this attachment: attachment; filename=\"Ex_26_to_TSD_of_Cons_Orgs_Comments_on_2016_EPA_Proposal_Utah_Haze.xlsx\"\n",
      "Can't handle this attachment: attachment; filename=\"Ex_27_to_TSD_of_Cons_Orgs_Comments_on_2016_EPA_Proposal_Utah_Haze.xlsx\"\n",
      "Can't handle this attachment: attachment; filename=\"Ex_28_to_TSD_of_Cons_Orgs_Comments_on_2016_EPA_Proposal_Utah_Haze.xlsx\"\n",
      "Can't handle this attachment: attachment; filename=\"Ex_29_to_TSD_of_Cons_Orgs_Comments_on_2016_EPA_Proposal_Utah_Haze.xlsx\"\n",
      "Can't handle this attachment: attachment; filename=\"Ex_31_to_TSD_of_Cons_Orgs_Comments_on_2016_EPA_Proposal_Utah_Haze.xlsx\"\n",
      "Can't handle this attachment: attachment; filename=\"Ex_42_to_TSD_of_Cons_Orgs_Comments_on_2016_EPA_Proposal_Utah_Haze.xlsx\"\n",
      "Can't handle this attachment: attachment; filename=\"Ex_47_to_TSD_of_Cons_Orgs_Comments_on_2016_EPA_Proposal_Utah_Haze.xlsx\"\n",
      "Can't handle this attachment: attachment; filename=\"Ex_46_to_TSD_of_Cons_Orgs_Comments_on_2016_EPA_Proposal_Utah_Haze.xlsx\"\n",
      "Can't handle this attachment: attachment; filename=\"Ex_60_to_TSD_of_Cons_Orgs_Comments_on_2016_EPA_Proposal_Utah_Haze.xls\"\n",
      "Can't handle this attachment: attachment; filename=\"Ex_65_to_TSD_of_Cons_Orgs_Comments_on_2016_EPA_Proposal_Utah_Haze.xlsx\"\n",
      "Can't handle this attachment: attachment; filename=\"Ex_67_to_TSD_of_Cons_Orgs_Comments_on_2016_EPA_Proposal_Utah_Haze.xlsx\"\n",
      "Can't handle this attachment: attachment; filename=\"Ex_68_to_TSD_of_Cons_Orgs_Comments_on_2016_EPA_Proposal_Utah_Haze.xlsx\"\n",
      "Can't handle this attachment: attachment; filename=\"160314_RH_SIP_EPA-$08-215-0463.doc\"\n",
      "Can't handle this attachment: attachment; filename=\"Andover_NOx_control_costs,_October_22,_2015+dls.xlsx\"\n",
      "Can't handle this attachment: attachment; filename=\"Carbon_2000_-_9_2015_CAMD.xlsx\"\n",
      "Can't handle this attachment: attachment; filename=\"Hunter_#2_Modified_DB_PC_w_FGD+FF_PM_speciation.xlsx\"\n",
      "Can't handle this attachment: attachment; filename=\"Hunter_#1_Modified_DB_PC_w_FGD+FF_PM_speciation.xlsx\"\n",
      "Can't handle this attachment: attachment; filename=\"Hunter_3_daily_2006_-_2007.xlsx\"\n",
      "Can't handle this attachment: attachment; filename=\"Hunter_#3_Modified_DB_PC_w_FGD+FF_PM_speciation.xlsx\"\n",
      "Can't handle this attachment: attachment; filename=\"Hunter_coal_receipts_2012_-_2015.xlsx\"\n",
      "Can't handle this attachment: attachment; filename=\"Hunter_2000_-_2015_CAMD.xlsx\"\n",
      "Can't handle this attachment: attachment; filename=\"2012_-_2015_EIA_Huntington_fuels_reports.xlsx\"\n",
      "Can't handle this attachment: attachment; filename=\"Huntington_#1_Modified_DB_PC_w_FGD+FF_PM_speciation.xlsx\"\n",
      "Can't handle this attachment: attachment; filename=\"Huntington_#2_Modified_DB_PC_w_FGD+FF_PM_speciation.xlsx\"\n",
      "Can't handle this attachment: attachment; filename=\"Huntington_2012_-_2015_CAMD.xlsx\"\n",
      "Can't handle this attachment: attachment; filename=\"Huntington_2000_-_2014_CAMD.xlsx\"\n",
      "Can't handle this attachment: attachment; filename=\"UT_BART_Alt_results.xlsx\"\n",
      "Skipping EPA-R08-OAR-2015-0463-0130 attachment #2 due to encoding issues\n",
      "Skipping EPA-R08-OAR-2015-0463-0130 attachment #3 due to encoding issues\n",
      "Skipping EPA-R08-OAR-2015-0463-0130 attachment #4 due to encoding issues\n"
     ]
    }
   ],
   "source": [
    "uri_template = 'https://api.data.gov/regulations/v3/documents?api_key={}&s={}&rpp={}&po={}&dct={}'\n",
    "nresults = 1000\n",
    "while results_per_page == nresults:\n",
    "    uri = uri_template.format(api_key, keywords, results_per_page, page_offset, doc_type)\n",
    "    print uri\n",
    "    r = requests.get(uri)\n",
    "    time.sleep(.25)\n",
    "    search_result = json.loads(r.content)\n",
    "    for doc in search_result['documents']:\n",
    "        thisDocumentId = doc['documentId']\n",
    "        if not(corpus[parentDocumentId].has_key(thisDocumentId)):\n",
    "            ct = doc['commentText']\n",
    "            if doc['attachmentCount'] > 0:\n",
    "                acom = get_attachment_comments(doc['documentId'], doc['attachmentCount'])\n",
    "                ct += ' ' + acom\n",
    "            corpus[parentDocumentId][thisDocumentId] = ct\n",
    "    page_offset += 1\n",
    "    nresults = len(search_result['documents'])"
   ]
  },
  {
   "cell_type": "code",
   "execution_count": 86,
   "metadata": {
    "collapsed": false
   },
   "outputs": [
    {
     "data": {
      "text/plain": [
       "151"
      ]
     },
     "execution_count": 86,
     "metadata": {},
     "output_type": "execute_result"
    }
   ],
   "source": [
    "len(corpus[corpus.keys()[0]])"
   ]
  },
  {
   "cell_type": "code",
   "execution_count": 88,
   "metadata": {
    "collapsed": true
   },
   "outputs": [],
   "source": [
    "pickle.dump(corpus, open('corpus.pkl', 'wb'))"
   ]
  },
  {
   "cell_type": "code",
   "execution_count": null,
   "metadata": {
    "collapsed": true
   },
   "outputs": [],
   "source": [
    "# TODO: save to s3"
   ]
  }
 ],
 "metadata": {
  "kernelspec": {
   "display_name": "Python 2",
   "language": "python",
   "name": "python2"
  },
  "language_info": {
   "codemirror_mode": {
    "name": "ipython",
    "version": 2
   },
   "file_extension": ".py",
   "mimetype": "text/x-python",
   "name": "python",
   "nbconvert_exporter": "python",
   "pygments_lexer": "ipython2",
   "version": "2.7.12"
  }
 },
 "nbformat": 4,
 "nbformat_minor": 1
}
