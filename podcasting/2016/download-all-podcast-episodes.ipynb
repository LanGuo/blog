{
 "cells": [
  {
   "cell_type": "markdown",
   "metadata": {},
   "source": [
    "## How to Download all Episodes of a Given Podcast in Python\n",
    "\n",
    "Whether you want to back up a local copy of your favorite show or are a luddite who refuses to use Podcast software, there are definite times you might want to download the entire available catalog of a given podcast.\n",
    "\n",
    "Downloading all episodes of a podcast typically involves some arduous right clicking and scrolling.  Why should it be so difficult?  It doesn't have to be, and using the python code in this blog post, you can download all the episodes of Data Skeptic.\n",
    "\n",
    "This script should be pretty easy to adjust to download the podcast of your choosing too."
   ]
  },
  {
   "cell_type": "code",
   "execution_count": 5,
   "metadata": {
    "collapsed": false
   },
   "outputs": [],
   "source": [
    "import requests\n",
    "import xmltodict\n",
    "import os"
   ]
  },
  {
   "cell_type": "code",
   "execution_count": 31,
   "metadata": {
    "collapsed": false
   },
   "outputs": [],
   "source": [
    "fname = 'feed.rss'\n",
    "url = 'http://dataskeptic.com/feed.rss'\n",
    "destination_directory = './podcast-audio-files'\n",
    "\n",
    "if not(os.path.isdir(destination_directory)):\n",
    "    os.mkdir(destination_directory)"
   ]
  },
  {
   "cell_type": "markdown",
   "metadata": {},
   "source": [
    "The next code block downloads the feed for the Data Skeptic podcast.  I first check to see if we've already downloaded the file.  If so, no need to eat up extra bandwidth doing it again.  I added this test because I expect many people may copy and paste this code, and I don't want the feed downloaded lots of extra times as people muddle their way through a project, frequently re-running this section.  The drawback is that if you want to refresh your analysis, you'll need to delete the feed.rss file.\n",
    "\n",
    "Podcasts are distributed via RSS feeds which are formatted as XML.  While XML is still a very popular standard, I find it more convenient to work on this project in JSON formal, so after I get the file, I use `xmltodict` to convert it to a dictionary."
   ]
  },
  {
   "cell_type": "code",
   "execution_count": 32,
   "metadata": {
    "collapsed": false
   },
   "outputs": [
    {
     "name": "stdout",
     "output_type": "stream",
     "text": [
      "fetching\n"
     ]
    }
   ],
   "source": [
    "if not(os.path.isfile(fname)):\n",
    "    print 'fetching'\n",
    "    r = requests.get(url)\n",
    "    f = open(fname, 'wb')\n",
    "    f.write(r.text.encode('utf-8'))\n",
    "    f.close()\n",
    "\n",
    "with open(fname) as fd:\n",
    "    xml = xmltodict.parse(fd.read())"
   ]
  },
  {
   "cell_type": "code",
   "execution_count": 14,
   "metadata": {
    "collapsed": false
   },
   "outputs": [],
   "source": [
    "episodes = xml['rss']['channel']['item']"
   ]
  },
  {
   "cell_type": "markdown",
   "metadata": {},
   "source": [
    "As a double check, let's see how many episodes are in the feed."
   ]
  },
  {
   "cell_type": "code",
   "execution_count": 15,
   "metadata": {
    "collapsed": false
   },
   "outputs": [
    {
     "name": "stdout",
     "output_type": "stream",
     "text": [
      "133\n"
     ]
    }
   ],
   "source": [
    "print(len(episodes))"
   ]
  },
  {
   "cell_type": "markdown",
   "metadata": {},
   "source": [
    "Lastly, let's loop through every episode and download it to our `destination_directory`."
   ]
  },
  {
   "cell_type": "code",
   "execution_count": 45,
   "metadata": {
    "collapsed": false
   },
   "outputs": [],
   "source": [
    "for episode in episodes:\n",
    "    url = episode['enclosure']['@url']\n",
    "    i = url.find('?')\n",
    "    if i != -1:\n",
    "        url = url[0:i]\n",
    "    i = url.rfind('/')\n",
    "    fname = destination_directory + '/' + url[i+1:]\n",
    "    if not(os.path.isfile(fname)):\n",
    "        r = requests.get(url)\n",
    "        f = open(fname, 'wb')\n",
    "        f.write(r.content)\n",
    "        f.close()"
   ]
  },
  {
   "cell_type": "markdown",
   "metadata": {},
   "source": [
    "That's all there is to it!"
   ]
  }
 ],
 "metadata": {
  "kernelspec": {
   "display_name": "Python 2",
   "language": "python",
   "name": "python2"
  },
  "language_info": {
   "codemirror_mode": {
    "name": "ipython",
    "version": 2
   },
   "file_extension": ".py",
   "mimetype": "text/x-python",
   "name": "python",
   "nbconvert_exporter": "python",
   "pygments_lexer": "ipython2",
   "version": "2.7.12"
  }
 },
 "nbformat": 4,
 "nbformat_minor": 1
}
