{
 "cells": [
  {
   "cell_type": "markdown",
   "metadata": {},
   "source": [
    "## Picking a winner\n",
    "\n",
    "At the end of our episode [The Master Algorithm](https://dataskeptic.com/blog/episodes/2018/the-master-algorithm) we asked listeners to [submit a resume](https://dataskeptic.com/careers) to us to build a corpus for an upcoming project.  We're working on an analysis of all the submissions and our result will be sent just to those that contributed a resume.\n",
    "\n",
    "We are still accepting submissions and plan to have the entire thing automated in time.  We are giving away two copies of \"The Master Algorithm\" by Pedros Domingos to submitters that got their PDF to us before the deadline.  During an upcoming Data Skeptic Live event, I'll be running the code below to announce the winner.\n",
    "\n",
    "Naturally, I'm aware of privacy concerns, so I'll be sharing an MD5 hash of the winner's email.  You can use the code below to check if you're the winner!  I'll also be contacting the winners directly."
   ]
  },
  {
   "cell_type": "code",
   "execution_count": null,
   "metadata": {},
   "outputs": [],
   "source": [
    "import json\n",
    "import random\n",
    "import hashlib"
   ]
  },
  {
   "cell_type": "code",
   "execution_count": null,
   "metadata": {},
   "outputs": [],
   "source": [
    "lst = json.load(open('resume_emails.json', 'r'))"
   ]
  },
  {
   "cell_type": "code",
   "execution_count": null,
   "metadata": {},
   "outputs": [],
   "source": [
    "len(lst)"
   ]
  },
  {
   "cell_type": "code",
   "execution_count": null,
   "metadata": {},
   "outputs": [],
   "source": [
    "random.shuffle(lst)"
   ]
  },
  {
   "cell_type": "code",
   "execution_count": null,
   "metadata": {},
   "outputs": [],
   "source": [
    "def get_md5(s):\n",
    "    s = s.encode('utf-8')\n",
    "    m = hashlib.md5()\n",
    "    m.update(s)\n",
    "    return m.hexdigest()"
   ]
  },
  {
   "cell_type": "code",
   "execution_count": null,
   "metadata": {},
   "outputs": [],
   "source": [
    "list(map(lambda x: get_md5(x), lst[0:2]))"
   ]
  }
 ],
 "metadata": {
  "kernelspec": {
   "display_name": "Python 3",
   "language": "python",
   "name": "python3"
  },
  "language_info": {
   "codemirror_mode": {
    "name": "ipython",
    "version": 3
   },
   "file_extension": ".py",
   "mimetype": "text/x-python",
   "name": "python",
   "nbconvert_exporter": "python",
   "pygments_lexer": "ipython3",
   "version": "3.6.4"
  }
 },
 "nbformat": 4,
 "nbformat_minor": 2
}
