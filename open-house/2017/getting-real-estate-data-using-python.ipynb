{
 "cells": [
  {
   "cell_type": "markdown",
   "metadata": {},
   "source": [
    "## Getting Real Estate Data Using Python\n",
    "\n",
    "In this post, I'll present the quickest way to get up and running fast, doing analysis on real estate data using Python.  We'll make a request to the [OpenHouse](http://openhouseproject.co) API, retrieve some data, and then do a quick analysis.  You won't need any prior experience beyond basic Python to follow this walkthrough."
   ]
  },
  {
   "cell_type": "code",
   "execution_count": 28,
   "metadata": {
    "collapsed": true
   },
   "outputs": [],
   "source": [
    "%matplotlib inline\n",
    "import matplotlib.pyplot as plt\n",
    "import requests\n",
    "import json\n",
    "import pandas as pd"
   ]
  },
  {
   "cell_type": "markdown",
   "metadata": {},
   "source": [
    "The url below makes a specific request to the OpenHouse API.  If you look through it, you can see the parameters being used and perhaps edit them to suit your own needs.  If you check out the [OpenHouse gallery](http://gallery.openhouseproject.co), you can use a user interface to customize this request."
   ]
  },
  {
   "cell_type": "code",
   "execution_count": 2,
   "metadata": {
    "collapsed": true
   },
   "outputs": [],
   "source": [
    "url = \"http://api.openhouseproject.co/api/property/?min_price=0&max_price=5000000&min_bedrooms=0&max_bedrooms=8&min_bathrooms=0&max_bathrooms=7&min_building_size=100&max_building_size=4000&close_to=(158.58473030020312,33.99802726234877,-118.223876953125)\""
   ]
  },
  {
   "cell_type": "markdown",
   "metadata": {},
   "source": [
    "Let's retrieve the data and confirm that the server sent us a good response (i.e. status code is 200)."
   ]
  },
  {
   "cell_type": "code",
   "execution_count": 4,
   "metadata": {},
   "outputs": [
    {
     "data": {
      "text/plain": [
       "True"
      ]
     },
     "execution_count": 4,
     "metadata": {},
     "output_type": "execute_result"
    }
   ],
   "source": [
    "r = requests.get(url)\n",
    "r.status_code == 200"
   ]
  },
  {
   "cell_type": "markdown",
   "metadata": {},
   "source": [
    "The results come back from the API as a list of bytes in the [UTF-8 format](https://en.wikipedia.org/wiki/UTF-8).  Let's decode that and convert it to a [JSON](https://www.w3schools.com/js/js_json_intro.asp) object.  If you're not already familiar with JSON, you should stop and check out the previous link to learn about it.  People with basic Python experience should find it very intuitive and straightforward."
   ]
  },
  {
   "cell_type": "code",
   "execution_count": 10,
   "metadata": {},
   "outputs": [
    {
     "name": "stdout",
     "output_type": "stream",
     "text": [
      "dict_keys(['count', 'previous', 'next', 'results'])\n"
     ]
    }
   ],
   "source": [
    "response = json.loads(r.content.decode(\"utf-8\"))\n",
    "print(response.keys())"
   ]
  },
  {
   "cell_type": "markdown",
   "metadata": {},
   "source": [
    "The response is a dictionary that has four keys.\n",
    "\n",
    "The *count* value is the number of records returned\n",
    "\n",
    "The *previous* and *next* values are useful for paginating through the data if there are more results available than what you retrieved.  We won't be using those in this post.\n",
    "\n",
    "Finally *results* is the most interesting part to us.  It's a list of property details.  Let's print out one as an example and see what it contains."
   ]
  },
  {
   "cell_type": "code",
   "execution_count": 16,
   "metadata": {
    "scrolled": true
   },
   "outputs": [
    {
     "name": "stdout",
     "output_type": "stream",
     "text": [
      "land_size:\n",
      "None\n",
      "-------------\n",
      "building_size:\n",
      "761.0\n",
      "-------------\n",
      "price:\n",
      "1000000.0\n",
      "-------------\n",
      "bathrooms:\n",
      "1.0\n",
      "-------------\n",
      "upload_timestamp:\n",
      "2016-06-23T02:10:28.006187Z\n",
      "-------------\n",
      "size_units:\n",
      "I\n",
      "-------------\n",
      "listing_type:\n",
      "S\n",
      "-------------\n",
      "id:\n",
      "55118\n",
      "-------------\n",
      "bedrooms:\n",
      "1.0\n",
      "-------------\n",
      "listing_timestamp:\n",
      "2016-02-17T00:00:00Z\n",
      "-------------\n",
      "features:\n",
      "[]\n",
      "-------------\n",
      "car_spaces:\n",
      "None\n",
      "-------------\n"
     ]
    }
   ],
   "source": [
    "home = response['results'][0]\n",
    "for key in home.keys():\n",
    "    if key not in ('raw_address', 'address_object', 'valid', 'submitter'):\n",
    "        print(key + \":\")\n",
    "        print(home[key])\n",
    "        print(\"-------------\")"
   ]
  },
  {
   "cell_type": "markdown",
   "metadata": {},
   "source": [
    "I left out the `address_object` because it's large and worth unpacking itself."
   ]
  },
  {
   "cell_type": "code",
   "execution_count": 19,
   "metadata": {
    "scrolled": true
   },
   "outputs": [
    {
     "name": "stdout",
     "output_type": "stream",
     "text": [
      "area_level_1:\n",
      "California\n",
      "-------------\n",
      "longitude:\n",
      "-117.9066814\n",
      "-------------\n",
      "formatted_address:\n",
      "300 Berry St #813, Brea, CA 92821, USA\n",
      "-------------\n",
      "locality:\n",
      "Brea\n",
      "-------------\n",
      "street_number:\n",
      "300\n",
      "-------------\n",
      "id:\n",
      "55644\n",
      "-------------\n",
      "route:\n",
      "Berry Street\n",
      "-------------\n",
      "country:\n",
      "United States\n",
      "-------------\n",
      "area_level_2:\n",
      "Orange County\n",
      "-------------\n",
      "latitude:\n",
      "33.9234601\n",
      "-------------\n",
      "postal_code:\n",
      "92821\n",
      "-------------\n",
      "subpremise:\n",
      "813\n",
      "-------------\n"
     ]
    }
   ],
   "source": [
    "keys = home['address_object'].keys()\n",
    "for key in keys:\n",
    "    if key != 'raw':\n",
    "        print(key + \":\")\n",
    "        print(home['address_object'][key])\n",
    "        print(\"-------------\")"
   ]
  },
  {
   "cell_type": "markdown",
   "metadata": {},
   "source": [
    "Let's convert this JSON response into a Pandas data frame.  If you're not already familiar with Pandas, stop everything and go get an introduction.  Pandas is the swiss army knife for data in Python.  A good tutorial can be found [here](http://pandas.pydata.org/pandas-docs/stable/10min.html).\n",
    "\n",
    "Due to the nested nature of the response, Pandas doesn't give us exactly what we want out of the box, so let's take a few steps to fix that as well.  I'm going to provide a list of `fields` that I'd like to extract from the address_object, and pull them out to be new columns.  After all that's done, we can delete the `address_object` and see the results."
   ]
  },
  {
   "cell_type": "code",
   "execution_count": 26,
   "metadata": {},
   "outputs": [],
   "source": [
    "df = pd.DataFrame(response['results'])\n",
    "fields = ['area_level_1', 'area_level_2', 'country', 'formatted_address', 'latitude', 'longitude', 'postal_code']\n",
    "for field in fields:\n",
    "    df[field] = df['address_object'].apply(lambda x: x[field])\n",
    "\n",
    "del df['address_object']"
   ]
  },
  {
   "cell_type": "code",
   "execution_count": 27,
   "metadata": {},
   "outputs": [
    {
     "data": {
      "text/html": [
       "<div>\n",
       "<table border=\"1\" class=\"dataframe\">\n",
       "  <thead>\n",
       "    <tr style=\"text-align: right;\">\n",
       "      <th></th>\n",
       "      <th>bathrooms</th>\n",
       "      <th>bedrooms</th>\n",
       "      <th>building_size</th>\n",
       "      <th>car_spaces</th>\n",
       "      <th>features</th>\n",
       "      <th>id</th>\n",
       "      <th>land_size</th>\n",
       "      <th>listing_timestamp</th>\n",
       "      <th>listing_type</th>\n",
       "      <th>price</th>\n",
       "      <th>...</th>\n",
       "      <th>submitter</th>\n",
       "      <th>upload_timestamp</th>\n",
       "      <th>valid</th>\n",
       "      <th>area_level_1</th>\n",
       "      <th>area_level_2</th>\n",
       "      <th>country</th>\n",
       "      <th>formatted_address</th>\n",
       "      <th>latitude</th>\n",
       "      <th>longitude</th>\n",
       "      <th>postal_code</th>\n",
       "    </tr>\n",
       "  </thead>\n",
       "  <tbody>\n",
       "    <tr>\n",
       "      <th>0</th>\n",
       "      <td>1.0</td>\n",
       "      <td>1.0</td>\n",
       "      <td>761.0</td>\n",
       "      <td>None</td>\n",
       "      <td>[]</td>\n",
       "      <td>55118</td>\n",
       "      <td>None</td>\n",
       "      <td>2016-02-17T00:00:00Z</td>\n",
       "      <td>S</td>\n",
       "      <td>1000000.0</td>\n",
       "      <td>...</td>\n",
       "      <td>1</td>\n",
       "      <td>2016-06-23T02:10:28.006187Z</td>\n",
       "      <td>False</td>\n",
       "      <td>California</td>\n",
       "      <td>Orange County</td>\n",
       "      <td>United States</td>\n",
       "      <td>300 Berry St #813, Brea, CA 92821, USA</td>\n",
       "      <td>33.923460</td>\n",
       "      <td>-117.906681</td>\n",
       "      <td>92821</td>\n",
       "    </tr>\n",
       "    <tr>\n",
       "      <th>1</th>\n",
       "      <td>1.0</td>\n",
       "      <td>1.0</td>\n",
       "      <td>761.0</td>\n",
       "      <td>None</td>\n",
       "      <td>[]</td>\n",
       "      <td>55156</td>\n",
       "      <td>None</td>\n",
       "      <td>2016-02-17T00:00:00Z</td>\n",
       "      <td>S</td>\n",
       "      <td>1000000.0</td>\n",
       "      <td>...</td>\n",
       "      <td>1</td>\n",
       "      <td>2016-06-23T02:10:32.726606Z</td>\n",
       "      <td>False</td>\n",
       "      <td>California</td>\n",
       "      <td>Orange County</td>\n",
       "      <td>United States</td>\n",
       "      <td>300 Berry St #813, Brea, CA 92821, USA</td>\n",
       "      <td>33.923460</td>\n",
       "      <td>-117.906681</td>\n",
       "      <td>92821</td>\n",
       "    </tr>\n",
       "    <tr>\n",
       "      <th>2</th>\n",
       "      <td>1.0</td>\n",
       "      <td>1.0</td>\n",
       "      <td>805.0</td>\n",
       "      <td>None</td>\n",
       "      <td>[]</td>\n",
       "      <td>55271</td>\n",
       "      <td>None</td>\n",
       "      <td>2016-01-21T00:00:00Z</td>\n",
       "      <td>S</td>\n",
       "      <td>578000.0</td>\n",
       "      <td>...</td>\n",
       "      <td>1</td>\n",
       "      <td>2016-06-23T02:10:44.325552Z</td>\n",
       "      <td>False</td>\n",
       "      <td>California</td>\n",
       "      <td>Los Angeles County</td>\n",
       "      <td>United States</td>\n",
       "      <td>855 Playa Vista Dr #162, Los Angeles, CA 90094...</td>\n",
       "      <td>33.975068</td>\n",
       "      <td>-118.428115</td>\n",
       "      <td>90094</td>\n",
       "    </tr>\n",
       "    <tr>\n",
       "      <th>3</th>\n",
       "      <td>2.0</td>\n",
       "      <td>2.0</td>\n",
       "      <td>1193.0</td>\n",
       "      <td>None</td>\n",
       "      <td>[]</td>\n",
       "      <td>55272</td>\n",
       "      <td>None</td>\n",
       "      <td>2016-01-21T00:00:00Z</td>\n",
       "      <td>S</td>\n",
       "      <td>750000.0</td>\n",
       "      <td>...</td>\n",
       "      <td>1</td>\n",
       "      <td>2016-06-23T02:10:44.538107Z</td>\n",
       "      <td>False</td>\n",
       "      <td>California</td>\n",
       "      <td>Los Angeles County</td>\n",
       "      <td>United States</td>\n",
       "      <td>855 Playa Vista Dr #360, Los Angeles, CA 90094...</td>\n",
       "      <td>33.975068</td>\n",
       "      <td>-118.428115</td>\n",
       "      <td>90094</td>\n",
       "    </tr>\n",
       "    <tr>\n",
       "      <th>4</th>\n",
       "      <td>1.0</td>\n",
       "      <td>1.0</td>\n",
       "      <td>667.0</td>\n",
       "      <td>None</td>\n",
       "      <td>[]</td>\n",
       "      <td>55521</td>\n",
       "      <td>None</td>\n",
       "      <td>2015-12-14T00:00:00Z</td>\n",
       "      <td>S</td>\n",
       "      <td>535000.0</td>\n",
       "      <td>...</td>\n",
       "      <td>1</td>\n",
       "      <td>2016-06-23T02:11:27.099323Z</td>\n",
       "      <td>False</td>\n",
       "      <td>California</td>\n",
       "      <td>Los Angeles County</td>\n",
       "      <td>United States</td>\n",
       "      <td>783 Playa Vista Dr #2, Los Angeles, CA 90094, USA</td>\n",
       "      <td>33.975066</td>\n",
       "      <td>-118.428114</td>\n",
       "      <td>90094</td>\n",
       "    </tr>\n",
       "  </tbody>\n",
       "</table>\n",
       "<p>5 rows × 22 columns</p>\n",
       "</div>"
      ],
      "text/plain": [
       "   bathrooms  bedrooms  building_size car_spaces features     id land_size  \\\n",
       "0        1.0       1.0          761.0       None       []  55118      None   \n",
       "1        1.0       1.0          761.0       None       []  55156      None   \n",
       "2        1.0       1.0          805.0       None       []  55271      None   \n",
       "3        2.0       2.0         1193.0       None       []  55272      None   \n",
       "4        1.0       1.0          667.0       None       []  55521      None   \n",
       "\n",
       "      listing_timestamp listing_type      price     ...      submitter  \\\n",
       "0  2016-02-17T00:00:00Z            S  1000000.0     ...              1   \n",
       "1  2016-02-17T00:00:00Z            S  1000000.0     ...              1   \n",
       "2  2016-01-21T00:00:00Z            S   578000.0     ...              1   \n",
       "3  2016-01-21T00:00:00Z            S   750000.0     ...              1   \n",
       "4  2015-12-14T00:00:00Z            S   535000.0     ...              1   \n",
       "\n",
       "              upload_timestamp  valid area_level_1        area_level_2  \\\n",
       "0  2016-06-23T02:10:28.006187Z  False   California       Orange County   \n",
       "1  2016-06-23T02:10:32.726606Z  False   California       Orange County   \n",
       "2  2016-06-23T02:10:44.325552Z  False   California  Los Angeles County   \n",
       "3  2016-06-23T02:10:44.538107Z  False   California  Los Angeles County   \n",
       "4  2016-06-23T02:11:27.099323Z  False   California  Los Angeles County   \n",
       "\n",
       "         country                                  formatted_address  \\\n",
       "0  United States             300 Berry St #813, Brea, CA 92821, USA   \n",
       "1  United States             300 Berry St #813, Brea, CA 92821, USA   \n",
       "2  United States  855 Playa Vista Dr #162, Los Angeles, CA 90094...   \n",
       "3  United States  855 Playa Vista Dr #360, Los Angeles, CA 90094...   \n",
       "4  United States  783 Playa Vista Dr #2, Los Angeles, CA 90094, USA   \n",
       "\n",
       "    latitude   longitude  postal_code  \n",
       "0  33.923460 -117.906681        92821  \n",
       "1  33.923460 -117.906681        92821  \n",
       "2  33.975068 -118.428115        90094  \n",
       "3  33.975068 -118.428115        90094  \n",
       "4  33.975066 -118.428114        90094  \n",
       "\n",
       "[5 rows x 22 columns]"
      ]
     },
     "execution_count": 27,
     "metadata": {},
     "output_type": "execute_result"
    }
   ],
   "source": [
    "df.head()"
   ]
  },
  {
   "cell_type": "markdown",
   "metadata": {},
   "source": [
    "If you've got an analysis already in mind, you should be able to take it from there!  In order to leave you with a slightly more complete boilerplate of code to build on, let's do one plot of the relationship between building size and price."
   ]
  },
  {
   "cell_type": "code",
   "execution_count": 32,
   "metadata": {},
   "outputs": [
    {
     "data": {
      "image/png": "[encoded data removed]",
      "text/plain": [
       "<matplotlib.figure.Figure at 0x11317beb8>"
      ]
     },
     "metadata": {},
     "output_type": "display_data"
    }
   ],
   "source": [
    "plt.figure(figsize=(8,8))\n",
    "plt.scatter(df['building_size'], df['price'])\n",
    "plt.xlabel('Building Size', fontsize=18)\n",
    "plt.ylabel('Last Sale Price', fontsize=18)\n",
    "plt.show()"
   ]
  },
  {
   "cell_type": "markdown",
   "metadata": {},
   "source": [
    "And just in case we want to make sure we have the exact same dataset in the future, let's write it to a tab separated file."
   ]
  },
  {
   "cell_type": "code",
   "execution_count": 36,
   "metadata": {},
   "outputs": [],
   "source": [
    "df.to_csv('my_example_data.csv', sep='\\t', index=False)"
   ]
  }
 ],
 "metadata": {
  "kernelspec": {
   "display_name": "Python 3",
   "language": "python",
   "name": "python3"
  },
  "language_info": {
   "codemirror_mode": {
    "name": "ipython",
    "version": 3
   },
   "file_extension": ".py",
   "mimetype": "text/x-python",
   "name": "python",
   "nbconvert_exporter": "python",
   "pygments_lexer": "ipython3",
   "version": "3.5.2"
  }
 },
 "nbformat": 4,
 "nbformat_minor": 2
}
