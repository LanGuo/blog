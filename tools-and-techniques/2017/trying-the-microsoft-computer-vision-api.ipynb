{
 "cells": [
  {
   "cell_type": "markdown",
   "metadata": {},
   "source": [
    "## Trying the Microsoft Computer Vision API\n",
    "\n",
    "I've been working on a project recently for which I hope to leverage some 3rd party APIs to do some basic image recognition tasks.\n",
    "\n",
    "Image recognition is difficult.  Although I know the methods and techniques to build start of the art computer vision systems, such systems always take a fair amount of fine tuning and testing.  Further, the best approaches (I'm speaking of deep learning, of course) require significant computational resources and time.  I need something relatively scrappy to bootstrap this problem.\n",
    "\n",
    "Ideally, I would have preferred to leverage transfer learning directly.  My use case is a bit specialized, but I should be able to use this powerful technique to quite figuratively stand on the shoulders of giants.  Transfer learning is the approach of taking a neural network that has been trained by someone else, replace it's input and output layer with your own, and beginning your own training in this \"parboiled\" network.\n",
    "\n",
    "I would like to live in a world where there's a marketplace of open source and potentially commercial starter networks one could easily fork to begin their own vision projects.  We're not quite there yet, and I actually need something that's just good enough for my scrapy new project, so I decided to explore what API services could do for me.\n",
    "\n",
    "I want to find a 3rd party API that is just good enough for me to not need to create my own.  I have been aware of Microsoft Cognitive Services for some time.  I helped deploy their speech APIs and text analytics APIs to clients of mine on separate occasions.  The results were just good enough that I thought I'd start with a test of Microsoft Cognitive Services Computer Vision API to see if it could meet my needs.\n",
    "\n",
    "I spent a few minutes wandering about the house and taking some photos to use as test cases.  You can see my test photos via the link below.\n",
    "\n",
    "[https://photos.google.com/share/AF1QipMxbdarrZ8N-Axst2lnYLur5TWHFYy2ZN6g5-jFNluBMlJCUFRQKf2Ed5ZLy4jUng?key=clZ5TFJWN1pMeW5WOEYwcVlmZ2FWTG1FMTdkYWZ3](https://photos.google.com/share/AF1QipMxbdarrZ8N-Axst2lnYLur5TWHFYy2ZN6g5-jFNluBMlJCUFRQKf2Ed5ZLy4jUng?key=clZ5TFJWN1pMeW5WOEYwcVlmZ2FWTG1FMTdkYWZ3)\n",
    "\n",
    "In case your curious, these were all taken with my brand new Google Pixel phone, although any poor quality is likely a reflection of my lack of photography skills rather than any hardware limitation.\n",
    "\n",
    "### Conclusion\n",
    "\n",
    "This quick trial leaves me a little lukewarm to the current state of the service.  On the plus side, it makes very few boneheaded errors, the API seems to be more likely to return no result than a spurious one.  That's good.  I'm willing to overlook a yellow squash being labelled as a banana, although there are more than a few wierd ones in my photo set.\n",
    "\n",
    "Overall, I think this Cognitive Services API can be useful to me in situations where I'm going to make suggestions to a user but always require their (perhaps single click) approval and the opportunity to edit the results.  Perhaps by the time I get back around to building my own system, the API will have improved without breaking :)\n",
    "\n",
    "You can review the details of my API calls in the rest of this post."
   ]
  },
  {
   "cell_type": "markdown",
   "metadata": {},
   "source": [
    "### Some setup code below"
   ]
  },
  {
   "cell_type": "code",
   "execution_count": 229,
   "metadata": {
    "collapsed": false
   },
   "outputs": [],
   "source": [
    "%matplotlib inline\n",
    "import matplotlib.pyplot as plt\n",
    "import os\n",
    "import json\n",
    "import numpy as np\n",
    "import math\n",
    "import httplib, urllib, base64\n",
    "from IPython.core.display import HTML"
   ]
  },
  {
   "cell_type": "code",
   "execution_count": 118,
   "metadata": {
    "collapsed": false
   },
   "outputs": [],
   "source": [
    "photos = os.listdir('./photos')"
   ]
  },
  {
   "cell_type": "code",
   "execution_count": 119,
   "metadata": {
    "collapsed": false
   },
   "outputs": [],
   "source": [
    "# This is how I am storing my keys for my Cognitive Services tests, just set your value for `key`\n",
    "f = open('azure.keys', 'r')\n",
    "keys = json.loads(f.read())\n",
    "f.close()"
   ]
  },
  {
   "cell_type": "markdown",
   "metadata": {},
   "source": [
    "### Calling the API\n",
    "\n",
    "The function below is pretty close to the boilerplate code provided by Microsoft [here](https://dev.projectoxford.ai/docs/services/56f91f2d778daf23d8ec6739/operations/56f91f2e778daf14a499e1fa).  The API offers a few types of feature extraction options.  I decided to get the category, tags, and description.  I threw in 'adult' out of curiosity.  I expect all my photos to be regarded in no way as adult content.  Trust, but verify."
   ]
  },
  {
   "cell_type": "code",
   "execution_count": 123,
   "metadata": {
    "collapsed": false
   },
   "outputs": [],
   "source": [
    "def get_vision_api_response(url):\n",
    "    key = keys['computer-vision']\n",
    "    headers = {'Content-Type': 'application/json', 'Ocp-Apim-Subscription-Key': key}\n",
    "\n",
    "    params = urllib.urlencode({\n",
    "        # Request parameters\n",
    "        'visualFeatures': 'categories,tags,description,adult',\n",
    "        'language': 'en',\n",
    "    })\n",
    "    body = json.dumps({'url': url})\n",
    "    try:\n",
    "        conn = httplib.HTTPSConnection('api.projectoxford.ai')\n",
    "        conn.request(\"POST\", \"/vision/v1.0/analyze?%s\" % params, body, headers)\n",
    "        response = conn.getresponse()\n",
    "        data = response.read()\n",
    "        o = json.loads(data)\n",
    "        conn.close()\n",
    "    except Exception as e:\n",
    "        print(\"[Errno {0}] {1}\".format(e.errno, e.strerror))\n",
    "        return None\n",
    "    return o"
   ]
  },
  {
   "cell_type": "code",
   "execution_count": 163,
   "metadata": {
    "collapsed": true
   },
   "outputs": [],
   "source": [
    "results = {}"
   ]
  },
  {
   "cell_type": "code",
   "execution_count": 192,
   "metadata": {
    "collapsed": false
   },
   "outputs": [],
   "source": [
    "bucket = 'https://s3.amazonaws.com/microsoft-vision-test/'\n",
    "for photo in photos:\n",
    "    url = bucket + photo\n",
    "    if not(results.has_key(photo)):\n",
    "        o = get_vision_api_response(url)\n",
    "        results[photo] = o"
   ]
  },
  {
   "cell_type": "code",
   "execution_count": 244,
   "metadata": {
    "collapsed": false
   },
   "outputs": [],
   "source": [
    "rows = []\n",
    "for photo in photos:\n",
    "    o = results[photo]\n",
    "    categories = []\n",
    "    if o.has_key('categories'):\n",
    "        categories = map(lambda x: x['name'], o['categories'])\n",
    "    adultScore = 'N/A'\n",
    "    racyScore = 'N/A'\n",
    "    if o.has_key('adult'):\n",
    "        adultScore = str(math.floor(o['adult']['adultScore'] * 1000) / 10) + '%'\n",
    "        racyScore = str(math.floor(o['adult']['racyScore'] * 1000) / 10) + '%'\n",
    "    row = '<div>'\n",
    "    row += '<p><img src=\"' + bucket + 'thumb_' + photo + '\" /></p>'\n",
    "    if (o.has_key('description')):\n",
    "        tags = []\n",
    "        if o['description']['captions'][0].has_key('tags'):\n",
    "            tags = map(lambda x: x['name'], o['description']['captions'][0]['tags'])\n",
    "        tags.extend(map(lambda x: x['name'], o['tags']))\n",
    "        row += '<p><b>Caption:</b> ' + o['description']['captions'][0]['text'] + '</p>'\n",
    "        row += '<p><b>Tags:</b> ' + ', '.join(tags) + '</p>'\n",
    "        row += '<p><b>Categories:</b> ' + ', '.join(categories) + '</p>'\n",
    "        row += '<p><b>Adult Score:</b> ' + adultScore + ', <b>Racy Score:</b> ' + racyScore + '</p>'\n",
    "        row += '<br/><br/><br/>'\n",
    "    else:\n",
    "        row += '<p>N/A</p>'\n",
    "    row += '</div>'\n",
    "    rows.append(row)"
   ]
  },
  {
   "cell_type": "markdown",
   "metadata": {},
   "source": [
    "### Results"
   ]
  },
  {
   "cell_type": "code",
   "execution_count": 245,
   "metadata": {
    "collapsed": false
   },
   "outputs": [
    {
     "data": {
      "text/html": [
       "<div><p><img src=\"https://s3.amazonaws.com/microsoft-vision-test/thumb_IMG_20170110_113818.jpg\" /></p><p><b>Caption:</b> a building with a wooden floor</p><p><b>Tags:</b> floor, indoor, building, wall, wood</p><p><b>Categories:</b> abstract_, others_</p><p><b>Adult Score:</b> 0.8%, <b>Racy Score:</b> 1.1%</p><br/><br/><br/></div><div><p><img src=\"https://s3.amazonaws.com/microsoft-vision-test/thumb_IMG_20170110_113829.jpg\" /></p><p>N/A</p></div><div><p><img src=\"https://s3.amazonaws.com/microsoft-vision-test/thumb_IMG_20170110_113833.jpg\" /></p><p><b>Caption:</b> a brown leather couch sitting on a table</p><p><b>Tags:</b> indoor, wall, floor, living, sofa, seat, leather</p><p><b>Categories:</b> abstract_, indoor_room, others_</p><p><b>Adult Score:</b> 1.6%, <b>Racy Score:</b> 3.3%</p><br/><br/><br/></div><div><p><img src=\"https://s3.amazonaws.com/microsoft-vision-test/thumb_IMG_20170110_113842.jpg\" /></p><p><b>Caption:</b> a parrot sitting on a table</p><p><b>Tags:</b> indoor, parrot, bird</p><p><b>Categories:</b> abstract_, indoor_room</p><p><b>Adult Score:</b> 1.1%, <b>Racy Score:</b> 0.9%</p><br/><br/><br/></div><div><p><img src=\"https://s3.amazonaws.com/microsoft-vision-test/thumb_IMG_20170110_113846.jpg\" /></p><p><b>Caption:</b> a parrot sitting on a table</p><p><b>Tags:</b> parrot, bird, sitting, animal</p><p><b>Categories:</b> abstract_, others_</p><p><b>Adult Score:</b> 3.9%, <b>Racy Score:</b> 2.0%</p><br/><br/><br/></div><div><p><img src=\"https://s3.amazonaws.com/microsoft-vision-test/thumb_IMG_20170110_113853.jpg\" /></p><p><b>Caption:</b> a close up of a laptop</p><p><b>Tags:</b> indoor</p><p><b>Categories:</b> others_, outdoor_, text_sign</p><p><b>Adult Score:</b> 2.6%, <b>Racy Score:</b> 1.6%</p><br/><br/><br/></div><div><p><img src=\"https://s3.amazonaws.com/microsoft-vision-test/thumb_IMG_20170110_113906.jpg\" /></p><p>N/A</p></div><div><p><img src=\"https://s3.amazonaws.com/microsoft-vision-test/thumb_IMG_20170110_113911.jpg\" /></p><p><b>Caption:</b> a bouquet of flowers in a vase on a table</p><p><b>Tags:</b> wall, flower, plant, bouquet, indoor, white, different, colored, several</p><p><b>Categories:</b> plant_flower</p><p><b>Adult Score:</b> 1.8%, <b>Racy Score:</b> 1.8%</p><br/><br/><br/></div><div><p><img src=\"https://s3.amazonaws.com/microsoft-vision-test/thumb_IMG_20170110_113921.jpg\" /></p><p><b>Caption:</b> a blender sitting on a counter</p><p><b>Tags:</b> </p><p><b>Categories:</b> </p><p><b>Adult Score:</b> 1.7%, <b>Racy Score:</b> 6.1%</p><br/><br/><br/></div><div><p><img src=\"https://s3.amazonaws.com/microsoft-vision-test/thumb_IMG_20170110_113929.jpg\" /></p><p>N/A</p></div><div><p><img src=\"https://s3.amazonaws.com/microsoft-vision-test/thumb_IMG_20170110_113935.jpg\" /></p><p><b>Caption:</b> a close up of a microwave</p><p><b>Tags:</b> indoor, oven</p><p><b>Categories:</b> abstract_shape, others_</p><p><b>Adult Score:</b> 2.6%, <b>Racy Score:</b> 5.3%</p><br/><br/><br/></div><div><p><img src=\"https://s3.amazonaws.com/microsoft-vision-test/thumb_IMG_20170110_113944.jpg\" /></p><p>N/A</p></div><div><p><img src=\"https://s3.amazonaws.com/microsoft-vision-test/thumb_IMG_20170110_113951.jpg\" /></p><p><b>Caption:</b> person sitting on a table next to a palm tree</p><p><b>Tags:</b> plant</p><p><b>Categories:</b> others_, outdoor_</p><p><b>Adult Score:</b> 1.0%, <b>Racy Score:</b> 1.8%</p><br/><br/><br/></div><div><p><img src=\"https://s3.amazonaws.com/microsoft-vision-test/thumb_IMG_20170110_113955.jpg\" /></p><p><b>Caption:</b> a bag of food</p><p><b>Tags:</b> </p><p><b>Categories:</b> others_, outdoor_</p><p><b>Adult Score:</b> 2.6%, <b>Racy Score:</b> 3.8%</p><br/><br/><br/></div><div><p><img src=\"https://s3.amazonaws.com/microsoft-vision-test/thumb_IMG_20170110_114003.jpg\" /></p><p><b>Caption:</b> a parking meter sitting next to a fire hydrant</p><p><b>Tags:</b> ground, outdoor, meter, device</p><p><b>Categories:</b> abstract_, others_, outdoor_</p><p><b>Adult Score:</b> 2.1%, <b>Racy Score:</b> 10.5%</p><br/><br/><br/></div><div><p><img src=\"https://s3.amazonaws.com/microsoft-vision-test/thumb_IMG_20170110_114057.jpg\" /></p><p>N/A</p></div><div><p><img src=\"https://s3.amazonaws.com/microsoft-vision-test/thumb_IMG_20170110_114112.jpg\" /></p><p><b>Caption:</b> a suitcase sitting on a bench</p><p><b>Tags:</b> </p><p><b>Categories:</b> abstract_, abstract_rect, others_, outdoor_</p><p><b>Adult Score:</b> 0.6%, <b>Racy Score:</b> 0.8%</p><br/><br/><br/></div><div><p><img src=\"https://s3.amazonaws.com/microsoft-vision-test/thumb_IMG_20170110_114134.jpg\" /></p><p><b>Caption:</b> a toothbrush is sitting next to a sink</p><p><b>Tags:</b> indoor, sink</p><p><b>Categories:</b> others_, outdoor_</p><p><b>Adult Score:</b> 2.1%, <b>Racy Score:</b> 10.4%</p><br/><br/><br/></div><div><p><img src=\"https://s3.amazonaws.com/microsoft-vision-test/thumb_IMG_20170110_114142.jpg\" /></p><p><b>Caption:</b> a close up of a sink</p><p><b>Tags:</b> indoor, sink</p><p><b>Categories:</b> others_, outdoor_</p><p><b>Adult Score:</b> 3.3%, <b>Racy Score:</b> 3.7%</p><br/><br/><br/></div><div><p><img src=\"https://s3.amazonaws.com/microsoft-vision-test/thumb_IMG_20170110_114147.jpg\" /></p><p><b>Caption:</b> a green plant</p><p><b>Tags:</b> wall, plant</p><p><b>Categories:</b> </p><p><b>Adult Score:</b> 1.0%, <b>Racy Score:</b> 1.6%</p><br/><br/><br/></div><div><p><img src=\"https://s3.amazonaws.com/microsoft-vision-test/thumb_IMG_20170110_114210.jpg\" /></p><p><b>Caption:</b> a cat sitting on a table</p><p><b>Tags:</b> indoor</p><p><b>Categories:</b> others_</p><p><b>Adult Score:</b> 1.8%, <b>Racy Score:</b> 2.4%</p><br/><br/><br/></div><div><p><img src=\"https://s3.amazonaws.com/microsoft-vision-test/thumb_IMG_20170110_114303.jpg\" /></p><p><b>Caption:</b> a bed with a book</p><p><b>Tags:</b> clothing, indoor, underpants</p><p><b>Categories:</b> others_</p><p><b>Adult Score:</b> 4.8%, <b>Racy Score:</b> 11.9%</p><br/><br/><br/></div><div><p><img src=\"https://s3.amazonaws.com/microsoft-vision-test/thumb_IMG_20170110_114317.jpg\" /></p><p><b>Caption:</b> a white toilet sitting next to a sink</p><p><b>Tags:</b> floor, indoor, toilet, sink, tiled, tile, bathroom</p><p><b>Categories:</b> abstract_, abstract_shape, others_, outdoor_</p><p><b>Adult Score:</b> 1.7%, <b>Racy Score:</b> 1.5%</p><br/><br/><br/></div><div><p><img src=\"https://s3.amazonaws.com/microsoft-vision-test/thumb_IMG_20170110_114322.jpg\" /></p><p>N/A</p></div><div><p><img src=\"https://s3.amazonaws.com/microsoft-vision-test/thumb_IMG_20170110_114331.jpg\" /></p><p><b>Caption:</b> an old photo of a large mirror</p><p><b>Tags:</b> gallery, room, picture frame</p><p><b>Categories:</b> abstract_rect, others_</p><p><b>Adult Score:</b> 4.4%, <b>Racy Score:</b> 7.9%</p><br/><br/><br/></div><div><p><img src=\"https://s3.amazonaws.com/microsoft-vision-test/thumb_IMG_20170110_114346.jpg\" /></p><p><b>Caption:</b> a close up of a box</p><p><b>Tags:</b> indoor, picture frame, case, box</p><p><b>Categories:</b> abstract_rect</p><p><b>Adult Score:</b> 5.4%, <b>Racy Score:</b> 4.0%</p><br/><br/><br/></div><div><p><img src=\"https://s3.amazonaws.com/microsoft-vision-test/thumb_IMG_20170110_114419.jpg\" /></p><p><b>Caption:</b> a clock on the wall</p><p><b>Tags:</b> indoor</p><p><b>Categories:</b> others_</p><p><b>Adult Score:</b> 0.6%, <b>Racy Score:</b> 0.9%</p><br/><br/><br/></div><div><p><img src=\"https://s3.amazonaws.com/microsoft-vision-test/thumb_IMG_20170110_114501.jpg\" /></p><p><b>Caption:</b> a banana sitting on a wooden cutting board</p><p><b>Tags:</b> wooden, fruit, wood, half, sliced</p><p><b>Categories:</b> abstract_, others_</p><p><b>Adult Score:</b> 1.6%, <b>Racy Score:</b> 1.9%</p><br/><br/><br/></div>"
      ],
      "text/plain": [
       "<IPython.core.display.HTML object>"
      ]
     },
     "execution_count": 245,
     "metadata": {},
     "output_type": "execute_result"
    }
   ],
   "source": [
    "HTML(reduce(lambda a, b: a+b, rows))"
   ]
  },
  {
   "cell_type": "markdown",
   "metadata": {},
   "source": [
    "### Adult Content Detection\n",
    "\n",
    "This is a situation in which most people have a low tollerance for false positives.  Strangely, for a few photos, the system was unable to provide any score.\n",
    "\n",
    "While this is by no means a good test of the ability for this service to detect adult content, the system produces a correct result by rating all this content very low in likelihood of being adult or racy.  Interestingly, the highest scoring photo is a picture of a t-shirt on the floor.  I don't personally find it suggestive, but hey, to each their own."
   ]
  }
 ],
 "metadata": {
  "kernelspec": {
   "display_name": "Python 2",
   "language": "python",
   "name": "python2"
  },
  "language_info": {
   "codemirror_mode": {
    "name": "ipython",
    "version": 2
   },
   "file_extension": ".py",
   "mimetype": "text/x-python",
   "name": "python",
   "nbconvert_exporter": "python",
   "pygments_lexer": "ipython2",
   "version": "2.7.12"
  }
 },
 "nbformat": 4,
 "nbformat_minor": 1
}
